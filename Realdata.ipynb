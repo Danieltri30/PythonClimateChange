{
 "cells": [
  {
   "cell_type": "code",
   "execution_count": 1,
   "id": "b2891c3c",
   "metadata": {},
   "outputs": [
    {
     "name": "stdout",
     "output_type": "stream",
     "text": [
      "Defaulting to user installation because normal site-packages is not writeable\n",
      "Requirement already satisfied: requests in c:\\users\\brian\\appdata\\local\\packages\\pythonsoftwarefoundation.python.3.12_qbz5n2kfra8p0\\localcache\\local-packages\\python312\\site-packages (2.32.3)\n",
      "Requirement already satisfied: pandas in c:\\users\\brian\\appdata\\local\\packages\\pythonsoftwarefoundation.python.3.12_qbz5n2kfra8p0\\localcache\\local-packages\\python312\\site-packages (2.2.3)\n",
      "Requirement already satisfied: charset-normalizer<4,>=2 in c:\\users\\brian\\appdata\\local\\packages\\pythonsoftwarefoundation.python.3.12_qbz5n2kfra8p0\\localcache\\local-packages\\python312\\site-packages (from requests) (3.4.0)\n",
      "Requirement already satisfied: idna<4,>=2.5 in c:\\users\\brian\\appdata\\local\\packages\\pythonsoftwarefoundation.python.3.12_qbz5n2kfra8p0\\localcache\\local-packages\\python312\\site-packages (from requests) (3.10)\n",
      "Requirement already satisfied: urllib3<3,>=1.21.1 in c:\\users\\brian\\appdata\\local\\packages\\pythonsoftwarefoundation.python.3.12_qbz5n2kfra8p0\\localcache\\local-packages\\python312\\site-packages (from requests) (2.2.3)\n",
      "Requirement already satisfied: certifi>=2017.4.17 in c:\\users\\brian\\appdata\\local\\packages\\pythonsoftwarefoundation.python.3.12_qbz5n2kfra8p0\\localcache\\local-packages\\python312\\site-packages (from requests) (2024.8.30)\n",
      "Requirement already satisfied: numpy>=1.26.0 in c:\\users\\brian\\appdata\\local\\packages\\pythonsoftwarefoundation.python.3.12_qbz5n2kfra8p0\\localcache\\local-packages\\python312\\site-packages (from pandas) (1.26.4)\n",
      "Requirement already satisfied: python-dateutil>=2.8.2 in c:\\users\\brian\\appdata\\local\\packages\\pythonsoftwarefoundation.python.3.12_qbz5n2kfra8p0\\localcache\\local-packages\\python312\\site-packages (from pandas) (2.9.0.post0)\n",
      "Requirement already satisfied: pytz>=2020.1 in c:\\users\\brian\\appdata\\local\\packages\\pythonsoftwarefoundation.python.3.12_qbz5n2kfra8p0\\localcache\\local-packages\\python312\\site-packages (from pandas) (2024.2)\n",
      "Requirement already satisfied: tzdata>=2022.7 in c:\\users\\brian\\appdata\\local\\packages\\pythonsoftwarefoundation.python.3.12_qbz5n2kfra8p0\\localcache\\local-packages\\python312\\site-packages (from pandas) (2024.2)\n",
      "Requirement already satisfied: six>=1.5 in c:\\users\\brian\\appdata\\local\\packages\\pythonsoftwarefoundation.python.3.12_qbz5n2kfra8p0\\localcache\\local-packages\\python312\\site-packages (from python-dateutil>=2.8.2->pandas) (1.16.0)\n",
      "Note: you may need to restart the kernel to use updated packages.\n",
      "Defaulting to user installation because normal site-packages is not writeable\n",
      "Requirement already satisfied: numpy in c:\\users\\brian\\appdata\\local\\packages\\pythonsoftwarefoundation.python.3.12_qbz5n2kfra8p0\\localcache\\local-packages\\python312\\site-packages (1.26.4)\n",
      "Note: you may need to restart the kernel to use updated packages.\n",
      "Defaulting to user installation because normal site-packages is not writeable\n",
      "Requirement already satisfied: seaborn in c:\\users\\brian\\appdata\\local\\packages\\pythonsoftwarefoundation.python.3.12_qbz5n2kfra8p0\\localcache\\local-packages\\python312\\site-packages (0.13.2)\n",
      "Requirement already satisfied: numpy!=1.24.0,>=1.20 in c:\\users\\brian\\appdata\\local\\packages\\pythonsoftwarefoundation.python.3.12_qbz5n2kfra8p0\\localcache\\local-packages\\python312\\site-packages (from seaborn) (1.26.4)\n",
      "Requirement already satisfied: pandas>=1.2 in c:\\users\\brian\\appdata\\local\\packages\\pythonsoftwarefoundation.python.3.12_qbz5n2kfra8p0\\localcache\\local-packages\\python312\\site-packages (from seaborn) (2.2.3)\n",
      "Requirement already satisfied: matplotlib!=3.6.1,>=3.4 in c:\\users\\brian\\appdata\\local\\packages\\pythonsoftwarefoundation.python.3.12_qbz5n2kfra8p0\\localcache\\local-packages\\python312\\site-packages (from seaborn) (3.9.2)\n",
      "Requirement already satisfied: contourpy>=1.0.1 in c:\\users\\brian\\appdata\\local\\packages\\pythonsoftwarefoundation.python.3.12_qbz5n2kfra8p0\\localcache\\local-packages\\python312\\site-packages (from matplotlib!=3.6.1,>=3.4->seaborn) (1.3.1)\n",
      "Requirement already satisfied: cycler>=0.10 in c:\\users\\brian\\appdata\\local\\packages\\pythonsoftwarefoundation.python.3.12_qbz5n2kfra8p0\\localcache\\local-packages\\python312\\site-packages (from matplotlib!=3.6.1,>=3.4->seaborn) (0.12.1)\n",
      "Requirement already satisfied: fonttools>=4.22.0 in c:\\users\\brian\\appdata\\local\\packages\\pythonsoftwarefoundation.python.3.12_qbz5n2kfra8p0\\localcache\\local-packages\\python312\\site-packages (from matplotlib!=3.6.1,>=3.4->seaborn) (4.55.0)\n",
      "Requirement already satisfied: kiwisolver>=1.3.1 in c:\\users\\brian\\appdata\\local\\packages\\pythonsoftwarefoundation.python.3.12_qbz5n2kfra8p0\\localcache\\local-packages\\python312\\site-packages (from matplotlib!=3.6.1,>=3.4->seaborn) (1.4.7)\n",
      "Requirement already satisfied: packaging>=20.0 in c:\\users\\brian\\appdata\\local\\packages\\pythonsoftwarefoundation.python.3.12_qbz5n2kfra8p0\\localcache\\local-packages\\python312\\site-packages (from matplotlib!=3.6.1,>=3.4->seaborn) (24.2)\n",
      "Requirement already satisfied: pillow>=8 in c:\\users\\brian\\appdata\\local\\packages\\pythonsoftwarefoundation.python.3.12_qbz5n2kfra8p0\\localcache\\local-packages\\python312\\site-packages (from matplotlib!=3.6.1,>=3.4->seaborn) (11.0.0)\n",
      "Requirement already satisfied: pyparsing>=2.3.1 in c:\\users\\brian\\appdata\\local\\packages\\pythonsoftwarefoundation.python.3.12_qbz5n2kfra8p0\\localcache\\local-packages\\python312\\site-packages (from matplotlib!=3.6.1,>=3.4->seaborn) (3.2.0)\n",
      "Requirement already satisfied: python-dateutil>=2.7 in c:\\users\\brian\\appdata\\local\\packages\\pythonsoftwarefoundation.python.3.12_qbz5n2kfra8p0\\localcache\\local-packages\\python312\\site-packages (from matplotlib!=3.6.1,>=3.4->seaborn) (2.9.0.post0)\n",
      "Requirement already satisfied: pytz>=2020.1 in c:\\users\\brian\\appdata\\local\\packages\\pythonsoftwarefoundation.python.3.12_qbz5n2kfra8p0\\localcache\\local-packages\\python312\\site-packages (from pandas>=1.2->seaborn) (2024.2)\n",
      "Requirement already satisfied: tzdata>=2022.7 in c:\\users\\brian\\appdata\\local\\packages\\pythonsoftwarefoundation.python.3.12_qbz5n2kfra8p0\\localcache\\local-packages\\python312\\site-packages (from pandas>=1.2->seaborn) (2024.2)\n",
      "Requirement already satisfied: six>=1.5 in c:\\users\\brian\\appdata\\local\\packages\\pythonsoftwarefoundation.python.3.12_qbz5n2kfra8p0\\localcache\\local-packages\\python312\\site-packages (from python-dateutil>=2.7->matplotlib!=3.6.1,>=3.4->seaborn) (1.16.0)\n",
      "Note: you may need to restart the kernel to use updated packages.\n",
      "Defaulting to user installation because normal site-packages is not writeable\n",
      "Requirement already satisfied: matplotlib in c:\\users\\brian\\appdata\\local\\packages\\pythonsoftwarefoundation.python.3.12_qbz5n2kfra8p0\\localcache\\local-packages\\python312\\site-packages (3.9.2)\n",
      "Requirement already satisfied: contourpy>=1.0.1 in c:\\users\\brian\\appdata\\local\\packages\\pythonsoftwarefoundation.python.3.12_qbz5n2kfra8p0\\localcache\\local-packages\\python312\\site-packages (from matplotlib) (1.3.1)\n",
      "Requirement already satisfied: cycler>=0.10 in c:\\users\\brian\\appdata\\local\\packages\\pythonsoftwarefoundation.python.3.12_qbz5n2kfra8p0\\localcache\\local-packages\\python312\\site-packages (from matplotlib) (0.12.1)\n",
      "Requirement already satisfied: fonttools>=4.22.0 in c:\\users\\brian\\appdata\\local\\packages\\pythonsoftwarefoundation.python.3.12_qbz5n2kfra8p0\\localcache\\local-packages\\python312\\site-packages (from matplotlib) (4.55.0)\n",
      "Requirement already satisfied: kiwisolver>=1.3.1 in c:\\users\\brian\\appdata\\local\\packages\\pythonsoftwarefoundation.python.3.12_qbz5n2kfra8p0\\localcache\\local-packages\\python312\\site-packages (from matplotlib) (1.4.7)\n",
      "Requirement already satisfied: numpy>=1.23 in c:\\users\\brian\\appdata\\local\\packages\\pythonsoftwarefoundation.python.3.12_qbz5n2kfra8p0\\localcache\\local-packages\\python312\\site-packages (from matplotlib) (1.26.4)\n",
      "Requirement already satisfied: packaging>=20.0 in c:\\users\\brian\\appdata\\local\\packages\\pythonsoftwarefoundation.python.3.12_qbz5n2kfra8p0\\localcache\\local-packages\\python312\\site-packages (from matplotlib) (24.2)\n",
      "Requirement already satisfied: pillow>=8 in c:\\users\\brian\\appdata\\local\\packages\\pythonsoftwarefoundation.python.3.12_qbz5n2kfra8p0\\localcache\\local-packages\\python312\\site-packages (from matplotlib) (11.0.0)\n",
      "Requirement already satisfied: pyparsing>=2.3.1 in c:\\users\\brian\\appdata\\local\\packages\\pythonsoftwarefoundation.python.3.12_qbz5n2kfra8p0\\localcache\\local-packages\\python312\\site-packages (from matplotlib) (3.2.0)\n",
      "Requirement already satisfied: python-dateutil>=2.7 in c:\\users\\brian\\appdata\\local\\packages\\pythonsoftwarefoundation.python.3.12_qbz5n2kfra8p0\\localcache\\local-packages\\python312\\site-packages (from matplotlib) (2.9.0.post0)\n",
      "Requirement already satisfied: six>=1.5 in c:\\users\\brian\\appdata\\local\\packages\\pythonsoftwarefoundation.python.3.12_qbz5n2kfra8p0\\localcache\\local-packages\\python312\\site-packages (from python-dateutil>=2.7->matplotlib) (1.16.0)\n",
      "Note: you may need to restart the kernel to use updated packages.\n",
      "Defaulting to user installation because normal site-packages is not writeableNote: you may need to restart the kernel to use updated packages.\n",
      "\n",
      "Requirement already satisfied: plotly in c:\\users\\brian\\appdata\\local\\packages\\pythonsoftwarefoundation.python.3.12_qbz5n2kfra8p0\\localcache\\local-packages\\python312\\site-packages (6.0.1)\n",
      "Requirement already satisfied: narwhals>=1.15.1 in c:\\users\\brian\\appdata\\local\\packages\\pythonsoftwarefoundation.python.3.12_qbz5n2kfra8p0\\localcache\\local-packages\\python312\\site-packages (from plotly) (1.34.0)\n",
      "Requirement already satisfied: packaging in c:\\users\\brian\\appdata\\local\\packages\\pythonsoftwarefoundation.python.3.12_qbz5n2kfra8p0\\localcache\\local-packages\\python312\\site-packages (from plotly) (24.2)\n",
      "Defaulting to user installation because normal site-packages is not writeable\n",
      "Requirement already satisfied: chart-studio in c:\\users\\brian\\appdata\\local\\packages\\pythonsoftwarefoundation.python.3.12_qbz5n2kfra8p0\\localcache\\local-packages\\python312\\site-packages (1.1.0)\n",
      "Requirement already satisfied: plotly in c:\\users\\brian\\appdata\\local\\packages\\pythonsoftwarefoundation.python.3.12_qbz5n2kfra8p0\\localcache\\local-packages\\python312\\site-packages (from chart-studio) (6.0.1)\n",
      "Requirement already satisfied: requests in c:\\users\\brian\\appdata\\local\\packages\\pythonsoftwarefoundation.python.3.12_qbz5n2kfra8p0\\localcache\\local-packages\\python312\\site-packages (from chart-studio) (2.32.3)\n",
      "Requirement already satisfied: retrying>=1.3.3 in c:\\users\\brian\\appdata\\local\\packages\\pythonsoftwarefoundation.python.3.12_qbz5n2kfra8p0\\localcache\\local-packages\\python312\\site-packages (from chart-studio) (1.3.4)\n",
      "Requirement already satisfied: six in c:\\users\\brian\\appdata\\local\\packages\\pythonsoftwarefoundation.python.3.12_qbz5n2kfra8p0\\localcache\\local-packages\\python312\\site-packages (from chart-studio) (1.16.0)\n",
      "Requirement already satisfied: narwhals>=1.15.1 in c:\\users\\brian\\appdata\\local\\packages\\pythonsoftwarefoundation.python.3.12_qbz5n2kfra8p0\\localcache\\local-packages\\python312\\site-packages (from plotly->chart-studio) (1.34.0)\n",
      "Requirement already satisfied: packaging in c:\\users\\brian\\appdata\\local\\packages\\pythonsoftwarefoundation.python.3.12_qbz5n2kfra8p0\\localcache\\local-packages\\python312\\site-packages (from plotly->chart-studio) (24.2)\n",
      "Requirement already satisfied: charset-normalizer<4,>=2 in c:\\users\\brian\\appdata\\local\\packages\\pythonsoftwarefoundation.python.3.12_qbz5n2kfra8p0\\localcache\\local-packages\\python312\\site-packages (from requests->chart-studio) (3.4.0)\n",
      "Requirement already satisfied: idna<4,>=2.5 in c:\\users\\brian\\appdata\\local\\packages\\pythonsoftwarefoundation.python.3.12_qbz5n2kfra8p0\\localcache\\local-packages\\python312\\site-packages (from requests->chart-studio) (3.10)\n",
      "Requirement already satisfied: urllib3<3,>=1.21.1 in c:\\users\\brian\\appdata\\local\\packages\\pythonsoftwarefoundation.python.3.12_qbz5n2kfra8p0\\localcache\\local-packages\\python312\\site-packages (from requests->chart-studio) (2.2.3)\n",
      "Requirement already satisfied: certifi>=2017.4.17 in c:\\users\\brian\\appdata\\local\\packages\\pythonsoftwarefoundation.python.3.12_qbz5n2kfra8p0\\localcache\\local-packages\\python312\\site-packages (from requests->chart-studio) (2024.8.30)\n",
      "Note: you may need to restart the kernel to use updated packages.\n",
      "Defaulting to user installation because normal site-packages is not writeable\n",
      "Requirement already satisfied: colorlover in c:\\users\\brian\\appdata\\local\\packages\\pythonsoftwarefoundation.python.3.12_qbz5n2kfra8p0\\localcache\\local-packages\\python312\\site-packages (0.3.0)\n",
      "Note: you may need to restart the kernel to use updated packages.\n"
     ]
    }
   ],
   "source": [
    "%pip install requests pandas\n",
    "%pip install numpy\n",
    "%pip install seaborn\n",
    "%pip install matplotlib\n",
    "%pip install plotly \n",
    "%pip install chart-studio \n",
    "%pip install colorlover"
   ]
  },
  {
   "cell_type": "code",
   "execution_count": 2,
   "id": "0eb7ae37",
   "metadata": {},
   "outputs": [
    {
     "name": "stdout",
     "output_type": "stream",
     "text": [
      "Defaulting to user installation because normal site-packages is not writeable\n",
      "Requirement already satisfied: nbformat in c:\\users\\brian\\appdata\\local\\packages\\pythonsoftwarefoundation.python.3.12_qbz5n2kfra8p0\\localcache\\local-packages\\python312\\site-packages (5.10.4)\n",
      "Requirement already satisfied: fastjsonschema>=2.15 in c:\\users\\brian\\appdata\\local\\packages\\pythonsoftwarefoundation.python.3.12_qbz5n2kfra8p0\\localcache\\local-packages\\python312\\site-packages (from nbformat) (2.21.1)\n",
      "Requirement already satisfied: jsonschema>=2.6 in c:\\users\\brian\\appdata\\local\\packages\\pythonsoftwarefoundation.python.3.12_qbz5n2kfra8p0\\localcache\\local-packages\\python312\\site-packages (from nbformat) (4.23.0)\n",
      "Requirement already satisfied: jupyter-core!=5.0.*,>=4.12 in c:\\users\\brian\\appdata\\local\\packages\\pythonsoftwarefoundation.python.3.12_qbz5n2kfra8p0\\localcache\\local-packages\\python312\\site-packages (from nbformat) (5.7.2)\n",
      "Requirement already satisfied: traitlets>=5.1 in c:\\users\\brian\\appdata\\local\\packages\\pythonsoftwarefoundation.python.3.12_qbz5n2kfra8p0\\localcache\\local-packages\\python312\\site-packages (from nbformat) (5.14.3)\n",
      "Requirement already satisfied: attrs>=22.2.0 in c:\\users\\brian\\appdata\\local\\packages\\pythonsoftwarefoundation.python.3.12_qbz5n2kfra8p0\\localcache\\local-packages\\python312\\site-packages (from jsonschema>=2.6->nbformat) (25.3.0)\n",
      "Requirement already satisfied: jsonschema-specifications>=2023.03.6 in c:\\users\\brian\\appdata\\local\\packages\\pythonsoftwarefoundation.python.3.12_qbz5n2kfra8p0\\localcache\\local-packages\\python312\\site-packages (from jsonschema>=2.6->nbformat) (2024.10.1)\n",
      "Requirement already satisfied: referencing>=0.28.4 in c:\\users\\brian\\appdata\\local\\packages\\pythonsoftwarefoundation.python.3.12_qbz5n2kfra8p0\\localcache\\local-packages\\python312\\site-packages (from jsonschema>=2.6->nbformat) (0.36.2)\n",
      "Requirement already satisfied: rpds-py>=0.7.1 in c:\\users\\brian\\appdata\\local\\packages\\pythonsoftwarefoundation.python.3.12_qbz5n2kfra8p0\\localcache\\local-packages\\python312\\site-packages (from jsonschema>=2.6->nbformat) (0.24.0)\n",
      "Requirement already satisfied: platformdirs>=2.5 in c:\\users\\brian\\appdata\\local\\packages\\pythonsoftwarefoundation.python.3.12_qbz5n2kfra8p0\\localcache\\local-packages\\python312\\site-packages (from jupyter-core!=5.0.*,>=4.12->nbformat) (4.3.6)\n",
      "Requirement already satisfied: pywin32>=300 in c:\\users\\brian\\appdata\\local\\packages\\pythonsoftwarefoundation.python.3.12_qbz5n2kfra8p0\\localcache\\local-packages\\python312\\site-packages (from jupyter-core!=5.0.*,>=4.12->nbformat) (308)\n",
      "Requirement already satisfied: typing-extensions>=4.4.0 in c:\\users\\brian\\appdata\\local\\packages\\pythonsoftwarefoundation.python.3.12_qbz5n2kfra8p0\\localcache\\local-packages\\python312\\site-packages (from referencing>=0.28.4->jsonschema>=2.6->nbformat) (4.12.2)\n",
      "Note: you may need to restart the kernel to use updated packages.\n"
     ]
    }
   ],
   "source": [
    "%pip install nbformat"
   ]
  },
  {
   "cell_type": "code",
   "execution_count": 3,
   "id": "f66c5431",
   "metadata": {},
   "outputs": [],
   "source": [
    "import requests\n",
    "import pandas as pd\n",
    "\n",
    "# State where we grab from\n",
    "latitude = 40.7128\n",
    "longitude = -74.0060\n",
    "# from when to when, so 01 january till december\n",
    "start_date = \"2022-01-01\"\n",
    "end_date = \"2022-12-31\"\n",
    "url = f\"https://archive-api.open-meteo.com/v1/archive?latitude={latitude}&longitude={longitude}&start_date={start_date}&end_date={end_date}&daily=temperature_2m_max,temperature_2m_min,precipitation_sum,wind_speed_10m_max&timezone=auto\"\n",
    "response = requests.get(url)\n",
    "data = response.json()\n",
    "df = pd.DataFrame(data['daily'])\n",
    "df.head()\n",
    "# send to csv for viewing\n",
    "df.to_csv(\"Temperature.csv\",index = False)"
   ]
  },
  {
   "cell_type": "code",
   "execution_count": 4,
   "id": "c00ffb89",
   "metadata": {},
   "outputs": [],
   "source": [
    "# Imports\n",
    "import pandas as pd\n",
    "import numpy as np\n",
    "import seaborn as sns\n",
    "import matplotlib.pyplot as plt\n",
    "%matplotlib inline\n",
    "\n",
    "import datetime\n",
    "\n",
    "# Plotly\n",
    "import chart_studio.plotly as py\n",
    "import plotly.express as px\n",
    "import plotly.graph_objects as go\n",
    "import colorlover as cl\n",
    "from plotly.subplots import make_subplots\n",
    "\n",
    "# Colors\n",
    "#maroon = rgb(128,0,0)\n",
    "#chocolate = rgb(210,105,30)\n",
    "#sky blue = rgb(135,206,235)\n",
    "#olive drab = rgb(107,142,35)\n",
    "#steel blue = rgb(70,130,180)"
   ]
  },
  {
   "cell_type": "code",
   "execution_count": 5,
   "id": "8c97712e",
   "metadata": {},
   "outputs": [
    {
     "data": {
      "text/plain": [
       "<Axes: >"
      ]
     },
     "execution_count": 5,
     "metadata": {},
     "output_type": "execute_result"
    },
    {
     "data": {
      "image/png": "[encoded data removed]",
      "text/plain": [
       "<Figure size 1600x300 with 2 Axes>"
      ]
     },
     "metadata": {},
     "output_type": "display_data"
    }
   ],
   "source": [
    "# Read the data\n",
    "data = pd.read_csv(\"GlobalTemperatures.csv\")\n",
    "data.head(2)\n",
    "\n",
    "# Make a copy of the data for future graphs\n",
    "copy = data.copy()\n",
    "\n",
    "# Missing values\n",
    "data.isna().sum() # there are 1200 missing values for Max, Min and Land&Ocean Average Temp\n",
    "plt.figure(figsize = (16, 3))\n",
    "sns.heatmap(data.isna())"
   ]
  },
  {
   "cell_type": "code",
   "execution_count": 6,
   "id": "c082275b",
   "metadata": {},
   "outputs": [
    {
     "data": {
      "text/html": [
       "<div>\n",
       "<style scoped>\n",
       "    .dataframe tbody tr th:only-of-type {\n",
       "        vertical-align: middle;\n",
       "    }\n",
       "\n",
       "    .dataframe tbody tr th {\n",
       "        vertical-align: top;\n",
       "    }\n",
       "\n",
       "    .dataframe thead th {\n",
       "        text-align: right;\n",
       "    }\n",
       "</style>\n",
       "<table border=\"1\" class=\"dataframe\">\n",
       "  <thead>\n",
       "    <tr style=\"text-align: right;\">\n",
       "      <th></th>\n",
       "      <th>year</th>\n",
       "      <th>LandAverageTemperature</th>\n",
       "      <th>LandAverageTemperatureUncertainty</th>\n",
       "      <th>LandMaxTemperature</th>\n",
       "      <th>LandMaxTemperatureUncertainty</th>\n",
       "      <th>LandMinTemperature</th>\n",
       "      <th>LandMinTemperatureUncertainty</th>\n",
       "      <th>LandAndOceanAverageTemperature</th>\n",
       "      <th>LandAndOceanAverageTemperatureUncertainty</th>\n",
       "      <th>turnpoint</th>\n",
       "    </tr>\n",
       "  </thead>\n",
       "  <tbody>\n",
       "    <tr>\n",
       "      <th>0</th>\n",
       "      <td>1850</td>\n",
       "      <td>7.900667</td>\n",
       "      <td>0.876417</td>\n",
       "      <td>13.476667</td>\n",
       "      <td>2.394833</td>\n",
       "      <td>1.964333</td>\n",
       "      <td>1.571167</td>\n",
       "      <td>14.867167</td>\n",
       "      <td>0.308167</td>\n",
       "      <td>before</td>\n",
       "    </tr>\n",
       "    <tr>\n",
       "      <th>1</th>\n",
       "      <td>1851</td>\n",
       "      <td>8.178583</td>\n",
       "      <td>0.881917</td>\n",
       "      <td>13.081000</td>\n",
       "      <td>2.397250</td>\n",
       "      <td>2.203917</td>\n",
       "      <td>1.632417</td>\n",
       "      <td>14.991833</td>\n",
       "      <td>0.312083</td>\n",
       "      <td>before</td>\n",
       "    </tr>\n",
       "  </tbody>\n",
       "</table>\n",
       "</div>"
      ],
      "text/plain": [
       "   year  LandAverageTemperature  LandAverageTemperatureUncertainty  \\\n",
       "0  1850                7.900667                           0.876417   \n",
       "1  1851                8.178583                           0.881917   \n",
       "\n",
       "   LandMaxTemperature  LandMaxTemperatureUncertainty  LandMinTemperature  \\\n",
       "0           13.476667                       2.394833            1.964333   \n",
       "1           13.081000                       2.397250            2.203917   \n",
       "\n",
       "   LandMinTemperatureUncertainty  LandAndOceanAverageTemperature  \\\n",
       "0                       1.571167                       14.867167   \n",
       "1                       1.632417                       14.991833   \n",
       "\n",
       "   LandAndOceanAverageTemperatureUncertainty turnpoint  \n",
       "0                                   0.308167    before  \n",
       "1                                   0.312083    before  "
      ]
     },
     "execution_count": 6,
     "metadata": {},
     "output_type": "execute_result"
    }
   ],
   "source": [
    "# Missing data with listwise deletion\n",
    "# Because data is missing in chucks and we are dealing with time series data, we will delete all rows that have at least \n",
    "# one missing value.\n",
    "\n",
    "data.dropna(axis = 0, inplace = True)\n",
    "\n",
    "\n",
    "# Dealing with the DATE\n",
    "data['Date'] = pd.to_datetime(data.dt) # converted all dates to the same format\n",
    "\n",
    "data2 = data.copy() # create a new dataset\n",
    "data2.drop(columns = ['dt'], axis = 1, inplace = True) # drop the dt column\n",
    "\n",
    "# Creating new features\n",
    "data2['day'] = data2['Date'].dt.day\n",
    "data2['week'] = data2['Date'].dt.isocalendar().week\n",
    "data2['month'] = data2['Date'].dt.month\n",
    "data2['year'] = data2['Date'].dt.year\n",
    "\n",
    "# Week data is not evenly distributed\n",
    "data2['week'].value_counts() # very uneven information on weeks\n",
    "\n",
    "# For future analysis, we will work only on yearly data, as average (because there are dates missing and data is not consistent)\n",
    "earth_data = data2.groupby(by = 'year')[['LandAverageTemperature', 'LandAverageTemperatureUncertainty',\n",
    "       'LandMaxTemperature', 'LandMaxTemperatureUncertainty',\n",
    "       'LandMinTemperature', 'LandMinTemperatureUncertainty',\n",
    "       'LandAndOceanAverageTemperature',\n",
    "       'LandAndOceanAverageTemperatureUncertainty']].mean().reset_index()\n",
    "\n",
    "earth_data['turnpoint'] = np.where(earth_data['year'] <= 1975, 'before', 'after') # creating a new columns\n",
    "earth_data.head(2)"
   ]
  },
  {
   "cell_type": "code",
   "execution_count": 7,
   "id": "b617f519",
   "metadata": {},
   "outputs": [
    {
     "data": {
      "application/vnd.plotly.v1+json": {
       "config": {
        "plotlyServerURL": "https://plot.ly"
       },
       "data": [
        {
         "marker": {
          "color": "rgb(128, 0, 0)"
         },
         "mode": "lines",
         "name": "Land Avg Temp",
         "type": "scatter",
         "x": {
          "bdata": "1gYAANcGAADYBgAA2QYAANoGAADbBgAA3AYAAN0GAADeBgAA3wYAAOAGAADhBgAA4gYAAOMGAADkBgAA5QYAAOYGAADnBgAA6AYAAOkGAADqBgAA6wYAAOwGAADtBgAA7gYAAO8GAADwBgAA8QYAAPIGAADzBgAA9AYAAPUGAAD2BgAA9wYAAPgGAAD5BgAA+gYAAPsGAAD8BgAA/QYAAP4GAAD/BgAAAAcAAAEHAAACBwAAAwcAAAQHAAAFBwAABgcAAAcHAAAIBwAACQcAAAoHAAALBwAADAcAAA0HAAAOBwAADwcAABAHAAARBwAAEgcAABMHAAAUBwAAFQcAABYHAAAXBwAAGAcAABkHAAAaBwAAGwcAABwHAAAdBwAAHgcAAB8HAAAgBwAAIQcAACIHAAAjBwAAJAcAACUHAAAmBwAAJwcAACgHAAApBwAAKgcAACsHAAAsBwAALQcAAC4HAAAvBwAAMAcAADEHAAAyBwAAMwcAADQHAAA1BwAANgcAADcHAAA4BwAAOQcAADoHAAA7BwAAPAcAAD0HAAA+BwAAPwcAAEAHAABBBwAAQgcAAEMHAABEBwAARQcAAEYHAABHBwAASAcAAEkHAABKBwAASwcAAEwHAABNBwAATgcAAE8HAABQBwAAUQcAAFIHAABTBwAAVAcAAFUHAABWBwAAVwcAAFgHAABZBwAAWgcAAFsHAABcBwAAXQcAAF4HAABfBwAAYAcAAGEHAABiBwAAYwcAAGQHAABlBwAAZgcAAGcHAABoBwAAaQcAAGoHAABrBwAAbAcAAG0HAABuBwAAbwcAAHAHAABxBwAAcgcAAHMHAAB0BwAAdQcAAHYHAAB3BwAAeAcAAHkHAAB6BwAAewcAAHwHAAB9BwAAfgcAAH8HAACABwAAgQcAAIIHAACDBwAAhAcAAIUHAACGBwAAhwcAAIgHAACJBwAAigcAAIsHAACMBwAAjQcAAI4HAACPBwAAkAcAAJEHAACSBwAAkwcAAJQHAACVBwAAlgcAAJcHAACYBwAAmQcAAJoHAACbBwAAnAcAAJ0HAACeBwAAnwcAAKAHAAChBwAAogcAAKMHAACkBwAApQcAAKYHAACnBwAAqAcAAKkHAACqBwAAqwcAAKwHAACtBwAArgcAAK8HAACwBwAAsQcAALIHAACzBwAAtAcAALUHAAC2BwAAtwcAALgHAAC5BwAAugcAALsHAAC8BwAAvQcAAL4HAAC/BwAAwAcAAMEHAADCBwAAwwcAAMQHAADFBwAAxgcAAMcHAADIBwAAyQcAAMoHAADLBwAAzAcAAM0HAADOBwAAzwcAANAHAADRBwAA0gcAANMHAADUBwAA1QcAANYHAADXBwAA2AcAANkHAADaBwAA2wcAANwHAADdBwAA3gcAAN8HAAA=",
          "dtype": "i4"
         },
         "y": {
          "bdata": "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",
          "dtype": "f8"
         }
        },
        {
         "marker": {
          "color": "rgb(107,142,35)"
         },
         "mode": "lines",
         "name": "Land Avg Temp Error",
         "type": "scatter",
         "x": {
          "bdata": "1gYAANcGAADYBgAA2QYAANoGAADbBgAA3AYAAN0GAADeBgAA3wYAAOAGAADhBgAA4gYAAOMGAADkBgAA5QYAAOYGAADnBgAA6AYAAOkGAADqBgAA6wYAAOwGAADtBgAA7gYAAO8GAADwBgAA8QYAAPIGAADzBgAA9AYAAPUGAAD2BgAA9wYAAPgGAAD5BgAA+gYAAPsGAAD8BgAA/QYAAP4GAAD/BgAAAAcAAAEHAAACBwAAAwcAAAQHAAAFBwAABgcAAAcHAAAIBwAACQcAAAoHAAALBwAADAcAAA0HAAAOBwAADwcAABAHAAARBwAAEgcAABMHAAAUBwAAFQcAABYHAAAXBwAAGAcAABkHAAAaBwAAGwcAABwHAAAdBwAAHgcAAB8HAAAgBwAAIQcAACIHAAAjBwAAJAcAACUHAAAmBwAAJwcAACgHAAApBwAAKgcAACsHAAAsBwAALQcAAC4HAAAvBwAAMAcAADEHAAAyBwAAMwcAADQHAAA1BwAANgcAADcHAAA4BwAAOQcAADoHAAA7BwAAPAcAAD0HAAA+BwAAPwcAAEAHAABBBwAAQgcAAEMHAABEBwAARQcAAEYHAABHBwAASAcAAEkHAABKBwAASwcAAEwHAABNBwAATgcAAE8HAABQBwAAUQcAAFIHAABTBwAAVAcAAFUHAABWBwAAVwcAAFgHAABZBwAAWgcAAFsHAABcBwAAXQcAAF4HAABfBwAAYAcAAGEHAABiBwAAYwcAAGQHAABlBwAAZgcAAGcHAABoBwAAaQcAAGoHAABrBwAAbAcAAG0HAABuBwAAbwcAAHAHAABxBwAAcgcAAHMHAAB0BwAAdQcAAHYHAAB3BwAAeAcAAHkHAAB6BwAAewcAAHwHAAB9BwAAfgcAAH8HAACABwAAgQcAAIIHAACDBwAAhAcAAIUHAACGBwAAhwcAAIgHAACJBwAAigcAAIsHAACMBwAAjQcAAI4HAACPBwAAkAcAAJEHAACSBwAAkwcAAJQHAACVBwAAlgcAAJcHAACYBwAAmQcAAJoHAACbBwAAnAcAAJ0HAACeBwAAnwcAAKAHAAChBwAAogcAAKMHAACkBwAApQcAAKYHAACnBwAAqAcAAKkHAACqBwAAqwcAAKwHAACtBwAArgcAAK8HAACwBwAAsQcAALIHAACzBwAAtAcAALUHAAC2BwAAtwcAALgHAAC5BwAAugcAALsHAAC8BwAAvQcAAL4HAAC/BwAAwAcAAMEHAADCBwAAwwcAAMQHAADFBwAAxgcAAMcHAADIBwAAyQcAAMoHAADLBwAAzAcAAM0HAADOBwAAzwcAANAHAADRBwAA0gcAANMHAADUBwAA1QcAANYHAADXBwAA2AcAANkHAADaBwAA2wcAANwHAADdBwAA3gcAAN8HAAA=",
          "dtype": "i4"
         },
         "y": {
          "bdata": "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",
          "dtype": "f8"
         }
        }
       ],
       "layout": {
        "font": {
         "color": "#7f7f7f",
         "family": "Courier New, monospace",
         "size": 12
        },
        "hovermode": "closest",
        "template": {
         "data": {
          "bar": [
           {
            "error_x": {
             "color": "rgb(51,51,51)"
            },
            "error_y": {
             "color": "rgb(51,51,51)"
            },
            "marker": {
             "line": {
              "color": "rgb(237,237,237)",
              "width": 0.5
             },
             "pattern": {
              "fillmode": "overlay",
              "size": 10,
              "solidity": 0.2
             }
            },
            "type": "bar"
           }
          ],
          "barpolar": [
           {
            "marker": {
             "line": {
              "color": "rgb(237,237,237)",
              "width": 0.5
             },
             "pattern": {
              "fillmode": "overlay",
              "size": 10,
              "solidity": 0.2
             }
            },
            "type": "barpolar"
           }
          ],
          "carpet": [
           {
            "aaxis": {
             "endlinecolor": "rgb(51,51,51)",
             "gridcolor": "white",
             "linecolor": "white",
             "minorgridcolor": "white",
             "startlinecolor": "rgb(51,51,51)"
            },
            "baxis": {
             "endlinecolor": "rgb(51,51,51)",
             "gridcolor": "white",
             "linecolor": "white",
             "minorgridcolor": "white",
             "startlinecolor": "rgb(51,51,51)"
            },
            "type": "carpet"
           }
          ],
          "choropleth": [
           {
            "colorbar": {
             "outlinewidth": 0,
             "tickcolor": "rgb(237,237,237)",
             "ticklen": 6,
             "ticks": "inside"
            },
            "type": "choropleth"
           }
          ],
          "contour": [
           {
            "colorbar": {
             "outlinewidth": 0,
             "tickcolor": "rgb(237,237,237)",
             "ticklen": 6,
             "ticks": "inside"
            },
            "colorscale": [
             [
              0,
              "rgb(20,44,66)"
             ],
             [
              1,
              "rgb(90,179,244)"
             ]
            ],
            "type": "contour"
           }
          ],
          "contourcarpet": [
           {
            "colorbar": {
             "outlinewidth": 0,
             "tickcolor": "rgb(237,237,237)",
             "ticklen": 6,
             "ticks": "inside"
            },
            "type": "contourcarpet"
           }
          ],
          "heatmap": [
           {
            "colorbar": {
             "outlinewidth": 0,
             "tickcolor": "rgb(237,237,237)",
             "ticklen": 6,
             "ticks": "inside"
            },
            "colorscale": [
             [
              0,
              "rgb(20,44,66)"
             ],
             [
              1,
              "rgb(90,179,244)"
             ]
            ],
            "type": "heatmap"
           }
          ],
          "histogram": [
           {
            "marker": {
             "pattern": {
              "fillmode": "overlay",
              "size": 10,
              "solidity": 0.2
             }
            },
            "type": "histogram"
           }
          ],
          "histogram2d": [
           {
            "colorbar": {
             "outlinewidth": 0,
             "tickcolor": "rgb(237,237,237)",
             "ticklen": 6,
             "ticks": "inside"
            },
            "colorscale": [
             [
              0,
              "rgb(20,44,66)"
             ],
             [
              1,
              "rgb(90,179,244)"
             ]
            ],
            "type": "histogram2d"
           }
          ],
          "histogram2dcontour": [
           {
            "colorbar": {
             "outlinewidth": 0,
             "tickcolor": "rgb(237,237,237)",
             "ticklen": 6,
             "ticks": "inside"
            },
            "colorscale": [
             [
              0,
              "rgb(20,44,66)"
             ],
             [
              1,
              "rgb(90,179,244)"
             ]
            ],
            "type": "histogram2dcontour"
           }
          ],
          "mesh3d": [
           {
            "colorbar": {
             "outlinewidth": 0,
             "tickcolor": "rgb(237,237,237)",
             "ticklen": 6,
             "ticks": "inside"
            },
            "type": "mesh3d"
           }
          ],
          "parcoords": [
           {
            "line": {
             "colorbar": {
              "outlinewidth": 0,
              "tickcolor": "rgb(237,237,237)",
              "ticklen": 6,
              "ticks": "inside"
             }
            },
            "type": "parcoords"
           }
          ],
          "pie": [
           {
            "automargin": true,
            "type": "pie"
           }
          ],
          "scatter": [
           {
            "fillpattern": {
             "fillmode": "overlay",
             "size": 10,
             "solidity": 0.2
            },
            "type": "scatter"
           }
          ],
          "scatter3d": [
           {
            "line": {
             "colorbar": {
              "outlinewidth": 0,
              "tickcolor": "rgb(237,237,237)",
              "ticklen": 6,
              "ticks": "inside"
             }
            },
            "marker": {
             "colorbar": {
              "outlinewidth": 0,
              "tickcolor": "rgb(237,237,237)",
              "ticklen": 6,
              "ticks": "inside"
             }
            },
            "type": "scatter3d"
           }
          ],
          "scattercarpet": [
           {
            "marker": {
             "colorbar": {
              "outlinewidth": 0,
              "tickcolor": "rgb(237,237,237)",
              "ticklen": 6,
              "ticks": "inside"
             }
            },
            "type": "scattercarpet"
           }
          ],
          "scattergeo": [
           {
            "marker": {
             "colorbar": {
              "outlinewidth": 0,
              "tickcolor": "rgb(237,237,237)",
              "ticklen": 6,
              "ticks": "inside"
             }
            },
            "type": "scattergeo"
           }
          ],
          "scattergl": [
           {
            "marker": {
             "colorbar": {
              "outlinewidth": 0,
              "tickcolor": "rgb(237,237,237)",
              "ticklen": 6,
              "ticks": "inside"
             }
            },
            "type": "scattergl"
           }
          ],
          "scattermap": [
           {
            "marker": {
             "colorbar": {
              "outlinewidth": 0,
              "tickcolor": "rgb(237,237,237)",
              "ticklen": 6,
              "ticks": "inside"
             }
            },
            "type": "scattermap"
           }
          ],
          "scattermapbox": [
           {
            "marker": {
             "colorbar": {
              "outlinewidth": 0,
              "tickcolor": "rgb(237,237,237)",
              "ticklen": 6,
              "ticks": "inside"
             }
            },
            "type": "scattermapbox"
           }
          ],
          "scatterpolar": [
           {
            "marker": {
             "colorbar": {
              "outlinewidth": 0,
              "tickcolor": "rgb(237,237,237)",
              "ticklen": 6,
              "ticks": "inside"
             }
            },
            "type": "scatterpolar"
           }
          ],
          "scatterpolargl": [
           {
            "marker": {
             "colorbar": {
              "outlinewidth": 0,
              "tickcolor": "rgb(237,237,237)",
              "ticklen": 6,
              "ticks": "inside"
             }
            },
            "type": "scatterpolargl"
           }
          ],
          "scatterternary": [
           {
            "marker": {
             "colorbar": {
              "outlinewidth": 0,
              "tickcolor": "rgb(237,237,237)",
              "ticklen": 6,
              "ticks": "inside"
             }
            },
            "type": "scatterternary"
           }
          ],
          "surface": [
           {
            "colorbar": {
             "outlinewidth": 0,
             "tickcolor": "rgb(237,237,237)",
             "ticklen": 6,
             "ticks": "inside"
            },
            "colorscale": [
             [
              0,
              "rgb(20,44,66)"
             ],
             [
              1,
              "rgb(90,179,244)"
             ]
            ],
            "type": "surface"
           }
          ],
          "table": [
           {
            "cells": {
             "fill": {
              "color": "rgb(237,237,237)"
             },
             "line": {
              "color": "white"
             }
            },
            "header": {
             "fill": {
              "color": "rgb(217,217,217)"
             },
             "line": {
              "color": "white"
             }
            },
            "type": "table"
           }
          ]
         },
         "layout": {
          "annotationdefaults": {
           "arrowhead": 0,
           "arrowwidth": 1
          },
          "autotypenumbers": "strict",
          "coloraxis": {
           "colorbar": {
            "outlinewidth": 0,
            "tickcolor": "rgb(237,237,237)",
            "ticklen": 6,
            "ticks": "inside"
           }
          },
          "colorscale": {
           "sequential": [
            [
             0,
             "rgb(20,44,66)"
            ],
            [
             1,
             "rgb(90,179,244)"
            ]
           ],
           "sequentialminus": [
            [
             0,
             "rgb(20,44,66)"
            ],
            [
             1,
             "rgb(90,179,244)"
            ]
           ]
          },
          "colorway": [
           "#F8766D",
           "#A3A500",
           "#00BF7D",
           "#00B0F6",
           "#E76BF3"
          ],
          "font": {
           "color": "rgb(51,51,51)"
          },
          "geo": {
           "bgcolor": "white",
           "lakecolor": "white",
           "landcolor": "rgb(237,237,237)",
           "showlakes": true,
           "showland": true,
           "subunitcolor": "white"
          },
          "hoverlabel": {
           "align": "left"
          },
          "hovermode": "closest",
          "paper_bgcolor": "white",
          "plot_bgcolor": "rgb(237,237,237)",
          "polar": {
           "angularaxis": {
            "gridcolor": "white",
            "linecolor": "white",
            "showgrid": true,
            "tickcolor": "rgb(51,51,51)",
            "ticks": "outside"
           },
           "bgcolor": "rgb(237,237,237)",
           "radialaxis": {
            "gridcolor": "white",
            "linecolor": "white",
            "showgrid": true,
            "tickcolor": "rgb(51,51,51)",
            "ticks": "outside"
           }
          },
          "scene": {
           "xaxis": {
            "backgroundcolor": "rgb(237,237,237)",
            "gridcolor": "white",
            "gridwidth": 2,
            "linecolor": "white",
            "showbackground": true,
            "showgrid": true,
            "tickcolor": "rgb(51,51,51)",
            "ticks": "outside",
            "zerolinecolor": "white"
           },
           "yaxis": {
            "backgroundcolor": "rgb(237,237,237)",
            "gridcolor": "white",
            "gridwidth": 2,
            "linecolor": "white",
            "showbackground": true,
            "showgrid": true,
            "tickcolor": "rgb(51,51,51)",
            "ticks": "outside",
            "zerolinecolor": "white"
           },
           "zaxis": {
            "backgroundcolor": "rgb(237,237,237)",
            "gridcolor": "white",
            "gridwidth": 2,
            "linecolor": "white",
            "showbackground": true,
            "showgrid": true,
            "tickcolor": "rgb(51,51,51)",
            "ticks": "outside",
            "zerolinecolor": "white"
           }
          },
          "shapedefaults": {
           "fillcolor": "black",
           "line": {
            "width": 0
           },
           "opacity": 0.3
          },
          "ternary": {
           "aaxis": {
            "gridcolor": "white",
            "linecolor": "white",
            "showgrid": true,
            "tickcolor": "rgb(51,51,51)",
            "ticks": "outside"
           },
           "baxis": {
            "gridcolor": "white",
            "linecolor": "white",
            "showgrid": true,
            "tickcolor": "rgb(51,51,51)",
            "ticks": "outside"
           },
           "bgcolor": "rgb(237,237,237)",
           "caxis": {
            "gridcolor": "white",
            "linecolor": "white",
            "showgrid": true,
            "tickcolor": "rgb(51,51,51)",
            "ticks": "outside"
           }
          },
          "xaxis": {
           "automargin": true,
           "gridcolor": "white",
           "linecolor": "white",
           "showgrid": true,
           "tickcolor": "rgb(51,51,51)",
           "ticks": "outside",
           "title": {
            "standoff": 15
           },
           "zerolinecolor": "white"
          },
          "yaxis": {
           "automargin": true,
           "gridcolor": "white",
           "linecolor": "white",
           "showgrid": true,
           "tickcolor": "rgb(51,51,51)",
           "ticks": "outside",
           "title": {
            "standoff": 15
           },
           "zerolinecolor": "white"
          }
         }
        },
        "title": {
         "font": {
          "size": 20
         },
         "text": "Land Average Temperature: 1750-2010"
        },
        "xaxis": {
         "linecolor": "gray",
         "linewidth": 1,
         "showline": true
        },
        "yaxis": {
         "linecolor": "gray",
         "linewidth": 1,
         "showline": true
        }
       }
      }
     },
     "metadata": {},
     "output_type": "display_data"
    }
   ],
   "source": [
    "# Creating the dataset - using copy\n",
    "copy['Date'] = pd.to_datetime(copy.dt)\n",
    "copy['year'] = copy['Date'].dt.year\n",
    "land_avg = copy.groupby('year')[['LandAverageTemperature', 'LandAverageTemperatureUncertainty']].mean().reset_index()\n",
    "\n",
    "# Creating the graph\n",
    "fig = go.Figure()\n",
    "fig.update_layout(title=\"Land Average Temperature: 1750-2010\", title_font_size = 20,\n",
    "                  font=dict( family=\"Courier New, monospace\", size=12,color=\"#7f7f7f\"),\n",
    "                  template = \"ggplot2\", hovermode= 'closest')\n",
    "fig.update_xaxes(showline=True, linewidth=1, linecolor='gray')\n",
    "fig.update_yaxes(showline=True, linewidth=1, linecolor='gray')\n",
    "\n",
    "fig.add_trace(go.Scatter(x = land_avg['year'], y = land_avg['LandAverageTemperature'], mode = 'lines',\n",
    "                        name = 'Land Avg Temp', marker_color='rgb(128, 0, 0)'))\n",
    "\n",
    "fig.add_trace(go.Scatter(x = land_avg['year'], y = land_avg['LandAverageTemperatureUncertainty'], mode = 'lines',\n",
    "                        name = 'Land Avg Temp Error', marker_color = 'rgb(107,142,35)'))"
   ]
  },
  {
   "cell_type": "code",
   "execution_count": 8,
   "id": "61c25cb1",
   "metadata": {},
   "outputs": [
    {
     "data": {
      "application/vnd.plotly.v1+json": {
       "config": {
        "plotlyServerURL": "https://plot.ly"
       },
       "data": [
        {
         "marker": {
          "color": "rgb(128, 0, 0)"
         },
         "mode": "lines",
         "name": "Land Avg Temp",
         "type": "scatter",
         "x": {
          "bdata": "OgcAADsHAAA8BwAAPQcAAD4HAAA/BwAAQAcAAEEHAABCBwAAQwcAAEQHAABFBwAARgcAAEcHAABIBwAASQcAAEoHAABLBwAATAcAAE0HAABOBwAATwcAAFAHAABRBwAAUgcAAFMHAABUBwAAVQcAAFYHAABXBwAAWAcAAFkHAABaBwAAWwcAAFwHAABdBwAAXgcAAF8HAABgBwAAYQcAAGIHAABjBwAAZAcAAGUHAABmBwAAZwcAAGgHAABpBwAAagcAAGsHAABsBwAAbQcAAG4HAABvBwAAcAcAAHEHAAByBwAAcwcAAHQHAAB1BwAAdgcAAHcHAAB4BwAAeQcAAHoHAAB7BwAAfAcAAH0HAAB+BwAAfwcAAIAHAACBBwAAggcAAIMHAACEBwAAhQcAAIYHAACHBwAAiAcAAIkHAACKBwAAiwcAAIwHAACNBwAAjgcAAI8HAACQBwAAkQcAAJIHAACTBwAAlAcAAJUHAACWBwAAlwcAAJgHAACZBwAAmgcAAJsHAACcBwAAnQcAAJ4HAACfBwAAoAcAAKEHAACiBwAAowcAAKQHAAClBwAApgcAAKcHAACoBwAAqQcAAKoHAACrBwAArAcAAK0HAACuBwAArwcAALAHAACxBwAAsgcAALMHAAC0BwAAtQcAALYHAAC3BwAAuAcAALkHAAC6BwAAuwcAALwHAAC9BwAAvgcAAL8HAADABwAAwQcAAMIHAADDBwAAxAcAAMUHAADGBwAAxwcAAMgHAADJBwAAygcAAMsHAADMBwAAzQcAAM4HAADPBwAA0AcAANEHAADSBwAA0wcAANQHAADVBwAA1gcAANcHAADYBwAA2QcAANoHAADbBwAA3AcAAN0HAADeBwAA3wcAAA==",
          "dtype": "i4"
         },
         "xaxis": "x",
         "y": {
          "bdata": "AbnXXEiaH0D/jVBGb1sgQCD3mgtJMyBAQhm9LWsVIECyne+nxmsgQGIQWDm0OCBAqH8jlNH7H0CvALnXXAgfQBfZzvdTMyBAGy/dJAaBIEAYS36x5NcfQIlBYOXQYh9AgwfzRP07HkDmifo3QjkgQLU6Jngw7x9AVZx9+AxbIEAcoYzelpUgQIakKRVn3yBA7+7u7u5+IEBtoNMGOt0gQM2FpCkVZyBAcfbhM+w6IEApFWcfPmMgQLes1THBsyBAy6FFtvPdIEDQaQOdNnAfQB8+w64AKSBAREREREQUIUBFtvP91KghQLWBThvoVCBAzczMzMw8IEChjN6WtYogQD98hl0BQiBArwC511zoH0DLWh0TPBgfQPs3Qhm9rR9AxSCwcmjRH0A8mCfq36gfQHWTGARWLiBAF9nO91OjIEBjyS+W/OIfQFfHBA/mCSBAgU4b6LQhIECTGARWDh0gQN9PjZduUiBAJQaBlUNLIEC4Za2OCW4gQJb8YskvliBAQWDl0CJbIEBx9uEz7MogQEvF2YfPACFAOfvwGXYVIUCfYVeA3JsgQF0Bcq+5cCBARf0boYwuIEAg95oLSXMgQCtA7jUXwiBAV8cED+bJH0Cj/o1QRl8gQCUGgZVDWyBAGQRWDi1yIEC0yHa+n1ogQOUXS36xVCBAnMQgsHKYIEB1kxgEVi4hQEPSlIqzLyFAF9nO91NzIECMJb9Y8gsgQGPJL5b8QiBAwcqhRbbDIEBH4XoUrrcgQDEIrBxaJCFAN4lBYOXQIEDflrU6JtggQPFgnqh/AyFAlYqzD58RIUB7zYWkKXUhQBvotIFOCyFAyuhtWatDIUBmrY4JHnwgQCfq3whlRCFAx0s3iUFwIUAMAiuHFmkhQHe+nxovrSBAgk4b6LRBIUDy0k1iEAghQM/3U+OlGyFAJb9Y8otlIUAU9W+EMrohQF9zIWlKhSFAblmrY4KHIUCjt2WtjokhQKtjggfzdCFAuddcSJqCIUBxPQrXo7AhQP+NUEZvKyFAvuZC0pRaIUDotIFOG5ghQHWTGARWfiFAI9v5fmosIUBfukkMArsgQLQPn2FXQCFAEVg5tMhGIUCPwvUoXL8hQNKUirMPHyFAcT0K16NAIUC/WPKLJY8gQNejcD0KdyFAXI/C9SiMIUDEZ9gVIHchQHsUrkfhKiFApeLsw2eYIUDUvxHK6H0hQIPAyqFFtiFAeDBP1L/RIEC3Za2OCQ4hQH8jlNHbMiFAXUiaUnFmIUCvALnXXAghQGcfPsOuMCFA/RuhjN5mIUCJQWDl0DIhQDCW/GLJ/yBAL90kBoHlIUCPwvUoXO8gQFFGb8tafSFAbxKDwMqxIEAX2c73U7MhQKabxCCwYiFAblmrY4J3IUDPsCtA7vUhQLWBThvoVCJApw102kBHIUBhV4Dcaw4iQA/mifo3YiFAN4lBYOVQIUCOUEZvy6ohQIDcay4k/SFAsStA7jVnIkDx0k1iENghQBhLfrHkdyJAn2FXgNxbIkA2F5KmVKwhQMXZh8+wuyFApHA9CtcTIkCCThvotLEiQJE0peLsEyJAPsOuALlnIkDZFSD3mgsjQEmaUnH2kSJA4cE8Uf9mIkBERERERNQiQHTaQKcNJCNAivo3QhkNI0CW/GLJL6YiQP0boYzeZiNAcT0K16MQI0D9G6GM3nYjQJMYBFYO3SJAppvEILACI0AFD+aJ+mcjQNV46SYxCCNAt6zVMcEDI0BKDAIrhzYjQFeA3GsuJCNAtvP91HipI0A=",
          "dtype": "f8"
         },
         "yaxis": "y"
        },
        {
         "line": {
          "color": "gray"
         },
         "mode": "lines",
         "showlegend": false,
         "type": "scatter",
         "x": [
          1975,
          1975
         ],
         "xaxis": "x",
         "y": [
          7.5,
          10
         ],
         "yaxis": "y"
        },
        {
         "marker": {
          "color": "rgb(210,105,30)"
         },
         "mode": "lines",
         "name": "Land Min Temp",
         "type": "scatter",
         "x": {
          "bdata": "OgcAADsHAAA8BwAAPQcAAD4HAAA/BwAAQAcAAEEHAABCBwAAQwcAAEQHAABFBwAARgcAAEcHAABIBwAASQcAAEoHAABLBwAATAcAAE0HAABOBwAATwcAAFAHAABRBwAAUgcAAFMHAABUBwAAVQcAAFYHAABXBwAAWAcAAFkHAABaBwAAWwcAAFwHAABdBwAAXgcAAF8HAABgBwAAYQcAAGIHAABjBwAAZAcAAGUHAABmBwAAZwcAAGgHAABpBwAAagcAAGsHAABsBwAAbQcAAG4HAABvBwAAcAcAAHEHAAByBwAAcwcAAHQHAAB1BwAAdgcAAHcHAAB4BwAAeQcAAHoHAAB7BwAAfAcAAH0HAAB+BwAAfwcAAIAHAACBBwAAggcAAIMHAACEBwAAhQcAAIYHAACHBwAAiAcAAIkHAACKBwAAiwcAAIwHAACNBwAAjgcAAI8HAACQBwAAkQcAAJIHAACTBwAAlAcAAJUHAACWBwAAlwcAAJgHAACZBwAAmgcAAJsHAACcBwAAnQcAAJ4HAACfBwAAoAcAAKEHAACiBwAAowcAAKQHAAClBwAApgcAAKcHAACoBwAAqQcAAKoHAACrBwAArAcAAK0HAACuBwAArwcAALAHAACxBwAAsgcAALMHAAC0BwAAtQcAALYHAAC3BwAAuAcAALkHAAC6BwAAuwcAALwHAAC9BwAAvgcAAL8HAADABwAAwQcAAMIHAADDBwAAxAcAAMUHAADGBwAAxwcAAMgHAADJBwAAygcAAMsHAADMBwAAzQcAAM4HAADPBwAA0AcAANEHAADSBwAA0wcAANQHAADVBwAA1gcAANcHAADYBwAA2QcAANoHAADbBwAA3AcAAN0HAADeBwAA3wcAAA==",
          "dtype": "i4"
         },
         "xaxis": "x2",
         "y": {
          "bdata": "078Ryuht/z+VirMPn6EBQBkEVg4tsgJASOF6FK5H/j9k9Las1TH8PwtJUyrOPvs/G3YFyL1m+D8boYzelrX9P4lBYOXQ4gBAYVeA3GuuA0BBpw102sACQCcxCKwcGgJA6SYxCKzcA0BjyS+W/CIGQPvwGXYFSANAHRM8mCdqBEBpke18P3UDQByhjN6WtQNAjwkezBP1AkAsQO41F1IBQLJWxwQPZgNA3SQGgZVDAUAleDBP1H8BQMNn2BUgd/4/frHkF0t+AEDTBjptoNP5P62OCR7MEwFAvS1rdUwwBUDbQKcNdNoHQJWKsw+foQBAfYZdAXJvAEDcay4kTWkDQIfPsCtALgJAe82FpCkV/j93vp8aL136P7ByaJHt/P0/WMcED+aJ/z+bffgMu4L+P5A0peLsQ/8/PJgn6t/IAkDrJjEIrJz9P7ByaJHtfP4/tYFOG+i0/z+4rNUxwYP+Pz0K16Nw/QBAG+i0gU6bAEBeukkMAusAQAG511xIWgJA001iEFg5AUBKxdmHz3ADQGfYFSD3mgRABoGVQ4vsA0DhehSuR6EBQEVERERERAJAa3VM8GBeAUDl0CLb+b4CQFeA3Gsu5ANAUyrOPnwGAEDZzvdT42UBQJx9+Ay7QgFAdgXIveZCAUCzD59hVwACQM/3U+OlmwFANOwKkHuNAkC/WPKLJX8FQGdmZmZmJgVAmZmZmZkZAkDptIFOGygAQElTKs4+fAFAqH8jlNGbA0A3iUFg5ZADQKmqqqqqagVAd3d3d3d3A0BmZmZmZqYDQPNE/RuhDARAoUW28/1UBECzVscEDyYGQNR46SYxSARAf2q8dJNYBUB2TPBgnmgCQOtRuB6F6wVAGb0ta3WMBkCZmZmZmRkGQHKvuZA0ZQNASZpScfYhBkDByqFFtrMEQCrOPnyGHQVAAAAAAAAABkDdJAaBlUMIQNgVIPeaCwdAhaQpFWcfB0CfqH8jlFEHQDcXkqZUXAdApSkVZx9+B0AU9W+EMnoIQPs3Qhm9LQZAmCfq3wilBkB3d3d3d7cHQJNfLPnFUgdAhDJ6W9ZqBkAta3VM8KAEQLC5kDSl4gVAQ9KUirOPBkAQn2FXgNwIQG2g0wY67QZAWIDcay7kBkBYObTIdn4EQDVeukkMAghA0CLb+X7qCEBrdUzwYN4IQNCwK0DudQdAR+F6FK4HCUCfqH8jlBEIQJ19+Ay7QglAQO41F5ImBkAvJE2pOLsGQD98hl0BMgdAjCW/WPJLCEDP91PjpdsGQHTaQKcNtAdAZDvfT41XCEClm8QgsLIHQBDmifo3wgZAqTj78Bn2CkCPCR7MEzUHQAQP5on69whAYCz5xZLfBUAb6LSBTlsKQLhlrY4JXglAdCFpSsWZCUDX6pjgwTwLQG+EMnpbFg1AEcrobVnrCUARyuhtWWsMQFg5tMh2fglANKXi7MNnCUDBg3mi/o0KQOdC0pSKcwtACKwcWmQ7DUDgCGX0tqwKQIXrUbgeRQ1AFPVvhDL6DEDP91PjpRsKQAc6baDTRgpAOEIZvS0rC0BU46WbxKANQPNE/RuhDAtAay4kTam4DEAYS36x5JcPQBm9LWt1TA1AWx0TPJinDEC5kDSl4uwNQKuqqqqq6g5A9+Ez7ArQDkBdAXKvuVANQAFyr7mQdBBAOEIZvS3rDkC28/3UeAkQQBm9LWt1zA1A7MNn2BVgDkCSplScfRgQQNGUirMPnw5A80T9G6EMDkDkXnMhaUoPQBODwMqhBQ9ApeLsw2eYEEA=",
          "dtype": "f8"
         },
         "yaxis": "y2"
        },
        {
         "line": {
          "color": "gray"
         },
         "mode": "lines",
         "showlegend": false,
         "type": "scatter",
         "x": [
          1975,
          1975
         ],
         "xaxis": "x2",
         "y": [
          1.5,
          4.5
         ],
         "yaxis": "y2"
        },
        {
         "marker": {
          "color": "rgb(135,206,235)"
         },
         "mode": "lines",
         "name": "Land Max Temp",
         "type": "scatter",
         "x": {
          "bdata": "OgcAADsHAAA8BwAAPQcAAD4HAAA/BwAAQAcAAEEHAABCBwAAQwcAAEQHAABFBwAARgcAAEcHAABIBwAASQcAAEoHAABLBwAATAcAAE0HAABOBwAATwcAAFAHAABRBwAAUgcAAFMHAABUBwAAVQcAAFYHAABXBwAAWAcAAFkHAABaBwAAWwcAAFwHAABdBwAAXgcAAF8HAABgBwAAYQcAAGIHAABjBwAAZAcAAGUHAABmBwAAZwcAAGgHAABpBwAAagcAAGsHAABsBwAAbQcAAG4HAABvBwAAcAcAAHEHAAByBwAAcwcAAHQHAAB1BwAAdgcAAHcHAAB4BwAAeQcAAHoHAAB7BwAAfAcAAH0HAAB+BwAAfwcAAIAHAACBBwAAggcAAIMHAACEBwAAhQcAAIYHAACHBwAAiAcAAIkHAACKBwAAiwcAAIwHAACNBwAAjgcAAI8HAACQBwAAkQcAAJIHAACTBwAAlAcAAJUHAACWBwAAlwcAAJgHAACZBwAAmgcAAJsHAACcBwAAnQcAAJ4HAACfBwAAoAcAAKEHAACiBwAAowcAAKQHAAClBwAApgcAAKcHAACoBwAAqQcAAKoHAACrBwAArAcAAK0HAACuBwAArwcAALAHAACxBwAAsgcAALMHAAC0BwAAtQcAALYHAAC3BwAAuAcAALkHAAC6BwAAuwcAALwHAAC9BwAAvgcAAL8HAADABwAAwQcAAMIHAADDBwAAxAcAAMUHAADGBwAAxwcAAMgHAADJBwAAygcAAMsHAADMBwAAzQcAAM4HAADPBwAA0AcAANEHAADSBwAA0wcAANQHAADVBwAA1gcAANcHAADYBwAA2QcAANoHAADbBwAA3AcAAN0HAADeBwAA3wcAAA==",
          "dtype": "i4"
         },
         "xaxis": "x3",
         "y": {
          "bdata": "dNpApw30KkC38/3UeCkqQP+NUEZvyypA0LArQO7FK0AfzBP1b/QrQBCfYVeA/CpAVOOlm8TwKkD34TPsCuAqQARWDi2yXStAk6ZUnH24K0DP91PjpesrQC2yne+ntitAPN9PjZd+LEBHKKO3ZT0rQFQqzj581itAdUzwYJ6YLECsY4IH81QsQEFg5dAiSyxAIyIiIiIyLEDdJAaBlSMsQOMz7AqQayxAP8OuALn3K0BImlJx9pEsQHOvuZA0BSxAMQisHFrEK0A7JngwTwQsQDPBg3mi3itANReSplTcLECDB/NE/XstQIts5/upISxAy+htWavTK0BpA5020BksQNEi2/l+OixA6SYxCKzsK0DziyW/WGIrQJx9+Ay70itA+FPjpZvkK0A/w64AuccrQLHkF0t+0StAQO41F5KWLEDYFSD3mtsrQBERERERESxAL2t1TPDwK0BgLPnFkt8rQNv5fmq8FCxANaXi7MMnLECnDXTaQDcsQFcOLbKdXyxAJJTR27J2LEB0IWlKxaksQIGVQ4tsxyxAjd6WtToGLUDRItv5frosQJVDi2znKyxAe1vW6pggLEAwT9S/ESosQLByaJHtfCxAF5KmVJydK0CkcD0K1xMsQBiSplScDSxAZfS2rNUxLEB0IWlKxfkrQBzotIFOGyxAne+nxktnLEAbL90kBqEsQJNfLPnF8ixAeDBP1L8xLEAwT9S/EdorQHDLWh0T7CtA9+Ez7ApQLEAVIPeaC0ksQN1rLiRN2SxADAIrhxZpLECUGARWDl0sQLnXXEiacixAvS1rdUywLEBlO99PjecsQJGmVJx9mCxAwBHK6G25LECHXQFyr+krQNejcD0KpyxA9P3UeOnWLEBtoNMGOt0sQOi0gU4bKCxA3Pl+arzELEB3Bci95pIsQBERERERoSxAm1Jx9uHzLEDX6pjgwUwtQJe1OiZ4MC1Ak6ZUnH0oLUDME/VvhBItQKjGSzeJES1A3Pl+arw0LUA7JngwT3QtQHE9Ctej4CxASwwCK4f2LEAAAAAAACAtQDhCGb0tOy1AOyZ4ME/ULEApXI/C9VgsQElTKs4+3CxAw64AudfsLECd76fGS0ctQJx9+Ay7kixAk6ZUnH2oLEBlrY4JHgwsQOdC0pSKwyxAFK5H4Xr0LEBoke18P9UsQMwT9W+EoixAUf9GKKMHLUADcq+5kBQtQLfz/dR4OS1AvS1rdUxQLEDAEcrobYksQP0boYzepixA5KWbxCDQLEBrvHSTGFQsQPxiyS+WbCxAWDm0yHbOLED4U+Olm7QsQB/ME/VvVCxAbxKDwMohLUBNqTj78CksQB/ME/VvxCxAa7x0kxgELEB/arx0k/gsQAAAAAAAkCxA7Xw/NV7qLECIiIiIiFgtQOPsw2fYtS1AME/UvxGaLEBwy1odE1wtQHyGXQFyryxAUNS/EcqILEB1TPBgnggtQHui/o1QZi1ASOF6FK7HLUCR7Xw/NT4tQPiaC0lT6i1A393d3d2tLUDYXEiaUvEsQCgxCKwcCi1ATDeJQWB1LUArzj58hg0uQLfz/dR4eS1AI9v5fmq8LUAZdgXIvVYuQLtJDAIr9y1AU3H24TPMLUCx5BdLflEuQBM8mCfqny5ATPBgnqh/LkDwp8ZLNwkuQEdvy1odsy5AoBov3SSGLkAta3VM8BAvQBgEVg4tYi5Ak6ZUnH2ILkDZzvdT4+UuQGX0tqzVkS5A5F5zIWmqLkCHpCkVZ78uQIR5ov6NoC5Ac6+5kDQlL0A=",
          "dtype": "f8"
         },
         "yaxis": "y3"
        },
        {
         "line": {
          "color": "gray"
         },
         "mode": "lines",
         "showlegend": false,
         "type": "scatter",
         "x": [
          1975,
          1975
         ],
         "xaxis": "x3",
         "y": [
          13,
          15.5
         ],
         "yaxis": "y3"
        },
        {
         "marker": {
          "color": "rgb(107,142,35)"
         },
         "mode": "lines",
         "name": "Land&Ocean Avg Temp",
         "type": "scatter",
         "x": {
          "bdata": "OgcAADsHAAA8BwAAPQcAAD4HAAA/BwAAQAcAAEEHAABCBwAAQwcAAEQHAABFBwAARgcAAEcHAABIBwAASQcAAEoHAABLBwAATAcAAE0HAABOBwAATwcAAFAHAABRBwAAUgcAAFMHAABUBwAAVQcAAFYHAABXBwAAWAcAAFkHAABaBwAAWwcAAFwHAABdBwAAXgcAAF8HAABgBwAAYQcAAGIHAABjBwAAZAcAAGUHAABmBwAAZwcAAGgHAABpBwAAagcAAGsHAABsBwAAbQcAAG4HAABvBwAAcAcAAHEHAAByBwAAcwcAAHQHAAB1BwAAdgcAAHcHAAB4BwAAeQcAAHoHAAB7BwAAfAcAAH0HAAB+BwAAfwcAAIAHAACBBwAAggcAAIMHAACEBwAAhQcAAIYHAACHBwAAiAcAAIkHAACKBwAAiwcAAIwHAACNBwAAjgcAAI8HAACQBwAAkQcAAJIHAACTBwAAlAcAAJUHAACWBwAAlwcAAJgHAACZBwAAmgcAAJsHAACcBwAAnQcAAJ4HAACfBwAAoAcAAKEHAACiBwAAowcAAKQHAAClBwAApgcAAKcHAACoBwAAqQcAAKoHAACrBwAArAcAAK0HAACuBwAArwcAALAHAACxBwAAsgcAALMHAAC0BwAAtQcAALYHAAC3BwAAuAcAALkHAAC6BwAAuwcAALwHAAC9BwAAvgcAAL8HAADABwAAwQcAAMIHAADDBwAAxAcAAMUHAADGBwAAxwcAAMgHAADJBwAAygcAAMsHAADMBwAAzQcAAM4HAADPBwAA0AcAANEHAADSBwAA0wcAANQHAADVBwAA1gcAANcHAADYBwAA2QcAANoHAADbBwAA3AcAAN0HAADeBwAA3wcAAA==",
          "dtype": "i4"
         },
         "xaxis": "x4",
         "y": {
          "bdata": "gwfzRP27LUCpfyOU0fstQBfZzvdTAy5AFyD3mgvpLUAIrBxaZPstQI9QRm/LCi5AD+aJ+jfCLUBNYhBYOYQtQBfZzvdTwy1AZa2OCR7cLUB02kCnDcQtQE2pOPvwmS1AcfbhM+x6LUDIdr6fGt8tQF+6SQwCyy1Af7HkF0v+LUB3vp8aLx0uQLhlrY4JHi5AlYqzD58xLkCoxks3iSEuQA/mifo3Ai5AWatjggcDLkBXxwQP5gkuQPCnxks3GS5ARIts5/vpLUD78Bl2BdgtQJWKsw+f0S1AXQFyr7mQLkDgwTxR/7YuQCRNqTj7IC5AH8wT9W8ELkDzRP0boSwuQKdUnH34HC5Ad76fGi/tLUC0yHa+n6otQDj78Bl2tS1Az/dT46WrLUBvEoPAyqEtQKdUnH34/C1AME/UvxE6LkBYObTIdq4tQCkVZx8+4y1ApHA9CtfDLUBQjZduEtMtQDEIrBxa1C1A46WbxCDwLUBrdUzwYC4uQEDuNReSJi5AqTj78BnGLUBZ8oslvxguQIddAXKvSS5AJb9Y8oslLkCrqqqqquotQDUXkqZUrC1A8O7u7u6eLUBP1L8RyugtQLQPn2FXEC5AEzyYJ+q/LUCA3GsuJK0tQO81F5KmlC1ADbsC5F6jLUBbZDvfT40tQAjzRP0bwS1A4XoUrkfRLUDXo3A9CicuQJmZmZmZSS5ANOwKkHvNLUA830+Nl54tQP+NUEZv6y1A+35qvHQDLkA9CtejcA0uQEVERERENC5AeaL+jVAGLkCIz7ArQA4uQGGeqH8jFC5AiM+wK0AuLkD/jVBGb3suQDzfT42XPi5AwMqhRbZDLkCZ4ME8Ue8tQLgehetRWC5Av58aL910LkDHSzeJQWAuQDfQaQOdBi5ARIts5/tJLkDDrgC51zwuQI8JHswTVS5AYOXQItuZLkCzVscED5YuQI1QRm/Lmi5ATxvotIG+LkCsY4IH88QuQEDuNReSpi5AcD0K16OwLkDQsCtA7uUuQNNNYhBYqS5ASwwCK4eGLkAMSVMqzp4uQP9GKKO3hS5ANV66SQxyLkCBlUOLbEcuQJngwTxRny5AV8cED+a5LkBbHRM8mNcuQLNWxwQPdi5A54n6N0JZLkCEwMqhRTYuQGlKxdmHvy5A1AY6baDDLkB0kxgEVq4uQDn78Bl2lS5AzBP1b4TCLkAklNHbsqYuQEGnDXTawC5AjCW/WPI7LkBPYhBYOWQuQG1Zq2OChy5AN9BpA52WLkDEZ9gVIIcuQA8tsp3vxy5A95oLSVOqLkBnZmZmZmYuQMeSXyz5lS5ArBxaZDvPLkCzVscED1YuQBT1b4Qyei5AR2/LWh1DLkAbL90kBtEuQDBP1L8Rmi5AdNpApw3ULkCofyOU0fsuQMM8Uf9GCC9A05SKsw+vLkDtfD81XgovQNBpA502sC5AYVeA3GuuLkD4U+Olm8QuQAeBlUOLDC9AB4GVQ4scL0AsQO41F+IuQA/mifo3Qi9AGARWDi0yL0APLbKd7+cuQAxJUyrO7i5AUbgehesRL0BA7jUXkkYvQPNE/RuhDC9ANOwKkHttL0D0/dR46aYvQA27AuReMy9AbC4kTak4L0ApXI/C9YgvQImIiIiIqC9AsStA7jWnL0DAyqFFtoMvQBgEVg4twi9AjZduEoOgL0BbHRM8mKcvQOF6FK5HcS9AbVmrY4KnL0DQItv5fsovQESLbOf7iS9Aj1BGb8uaL0A5+/AZdrUvQPl+arx00y9A4cE8Uf8OMEA=",
          "dtype": "f8"
         },
         "yaxis": "y4"
        },
        {
         "line": {
          "color": "gray"
         },
         "mode": "lines",
         "showlegend": false,
         "type": "scatter",
         "x": [
          1975,
          1975
         ],
         "xaxis": "x4",
         "y": [
          14.5,
          16
         ],
         "yaxis": "y4"
        }
       ],
       "layout": {
        "font": {
         "color": "#7f7f7f",
         "family": "Courier New, monospace",
         "size": 12
        },
        "hovermode": "closest",
        "template": {
         "data": {
          "bar": [
           {
            "error_x": {
             "color": "rgb(51,51,51)"
            },
            "error_y": {
             "color": "rgb(51,51,51)"
            },
            "marker": {
             "line": {
              "color": "rgb(237,237,237)",
              "width": 0.5
             },
             "pattern": {
              "fillmode": "overlay",
              "size": 10,
              "solidity": 0.2
             }
            },
            "type": "bar"
           }
          ],
          "barpolar": [
           {
            "marker": {
             "line": {
              "color": "rgb(237,237,237)",
              "width": 0.5
             },
             "pattern": {
              "fillmode": "overlay",
              "size": 10,
              "solidity": 0.2
             }
            },
            "type": "barpolar"
           }
          ],
          "carpet": [
           {
            "aaxis": {
             "endlinecolor": "rgb(51,51,51)",
             "gridcolor": "white",
             "linecolor": "white",
             "minorgridcolor": "white",
             "startlinecolor": "rgb(51,51,51)"
            },
            "baxis": {
             "endlinecolor": "rgb(51,51,51)",
             "gridcolor": "white",
             "linecolor": "white",
             "minorgridcolor": "white",
             "startlinecolor": "rgb(51,51,51)"
            },
            "type": "carpet"
           }
          ],
          "choropleth": [
           {
            "colorbar": {
             "outlinewidth": 0,
             "tickcolor": "rgb(237,237,237)",
             "ticklen": 6,
             "ticks": "inside"
            },
            "type": "choropleth"
           }
          ],
          "contour": [
           {
            "colorbar": {
             "outlinewidth": 0,
             "tickcolor": "rgb(237,237,237)",
             "ticklen": 6,
             "ticks": "inside"
            },
            "colorscale": [
             [
              0,
              "rgb(20,44,66)"
             ],
             [
              1,
              "rgb(90,179,244)"
             ]
            ],
            "type": "contour"
           }
          ],
          "contourcarpet": [
           {
            "colorbar": {
             "outlinewidth": 0,
             "tickcolor": "rgb(237,237,237)",
             "ticklen": 6,
             "ticks": "inside"
            },
            "type": "contourcarpet"
           }
          ],
          "heatmap": [
           {
            "colorbar": {
             "outlinewidth": 0,
             "tickcolor": "rgb(237,237,237)",
             "ticklen": 6,
             "ticks": "inside"
            },
            "colorscale": [
             [
              0,
              "rgb(20,44,66)"
             ],
             [
              1,
              "rgb(90,179,244)"
             ]
            ],
            "type": "heatmap"
           }
          ],
          "histogram": [
           {
            "marker": {
             "pattern": {
              "fillmode": "overlay",
              "size": 10,
              "solidity": 0.2
             }
            },
            "type": "histogram"
           }
          ],
          "histogram2d": [
           {
            "colorbar": {
             "outlinewidth": 0,
             "tickcolor": "rgb(237,237,237)",
             "ticklen": 6,
             "ticks": "inside"
            },
            "colorscale": [
             [
              0,
              "rgb(20,44,66)"
             ],
             [
              1,
              "rgb(90,179,244)"
             ]
            ],
            "type": "histogram2d"
           }
          ],
          "histogram2dcontour": [
           {
            "colorbar": {
             "outlinewidth": 0,
             "tickcolor": "rgb(237,237,237)",
             "ticklen": 6,
             "ticks": "inside"
            },
            "colorscale": [
             [
              0,
              "rgb(20,44,66)"
             ],
             [
              1,
              "rgb(90,179,244)"
             ]
            ],
            "type": "histogram2dcontour"
           }
          ],
          "mesh3d": [
           {
            "colorbar": {
             "outlinewidth": 0,
             "tickcolor": "rgb(237,237,237)",
             "ticklen": 6,
             "ticks": "inside"
            },
            "type": "mesh3d"
           }
          ],
          "parcoords": [
           {
            "line": {
             "colorbar": {
              "outlinewidth": 0,
              "tickcolor": "rgb(237,237,237)",
              "ticklen": 6,
              "ticks": "inside"
             }
            },
            "type": "parcoords"
           }
          ],
          "pie": [
           {
            "automargin": true,
            "type": "pie"
           }
          ],
          "scatter": [
           {
            "fillpattern": {
             "fillmode": "overlay",
             "size": 10,
             "solidity": 0.2
            },
            "type": "scatter"
           }
          ],
          "scatter3d": [
           {
            "line": {
             "colorbar": {
              "outlinewidth": 0,
              "tickcolor": "rgb(237,237,237)",
              "ticklen": 6,
              "ticks": "inside"
             }
            },
            "marker": {
             "colorbar": {
              "outlinewidth": 0,
              "tickcolor": "rgb(237,237,237)",
              "ticklen": 6,
              "ticks": "inside"
             }
            },
            "type": "scatter3d"
           }
          ],
          "scattercarpet": [
           {
            "marker": {
             "colorbar": {
              "outlinewidth": 0,
              "tickcolor": "rgb(237,237,237)",
              "ticklen": 6,
              "ticks": "inside"
             }
            },
            "type": "scattercarpet"
           }
          ],
          "scattergeo": [
           {
            "marker": {
             "colorbar": {
              "outlinewidth": 0,
              "tickcolor": "rgb(237,237,237)",
              "ticklen": 6,
              "ticks": "inside"
             }
            },
            "type": "scattergeo"
           }
          ],
          "scattergl": [
           {
            "marker": {
             "colorbar": {
              "outlinewidth": 0,
              "tickcolor": "rgb(237,237,237)",
              "ticklen": 6,
              "ticks": "inside"
             }
            },
            "type": "scattergl"
           }
          ],
          "scattermap": [
           {
            "marker": {
             "colorbar": {
              "outlinewidth": 0,
              "tickcolor": "rgb(237,237,237)",
              "ticklen": 6,
              "ticks": "inside"
             }
            },
            "type": "scattermap"
           }
          ],
          "scattermapbox": [
           {
            "marker": {
             "colorbar": {
              "outlinewidth": 0,
              "tickcolor": "rgb(237,237,237)",
              "ticklen": 6,
              "ticks": "inside"
             }
            },
            "type": "scattermapbox"
           }
          ],
          "scatterpolar": [
           {
            "marker": {
             "colorbar": {
              "outlinewidth": 0,
              "tickcolor": "rgb(237,237,237)",
              "ticklen": 6,
              "ticks": "inside"
             }
            },
            "type": "scatterpolar"
           }
          ],
          "scatterpolargl": [
           {
            "marker": {
             "colorbar": {
              "outlinewidth": 0,
              "tickcolor": "rgb(237,237,237)",
              "ticklen": 6,
              "ticks": "inside"
             }
            },
            "type": "scatterpolargl"
           }
          ],
          "scatterternary": [
           {
            "marker": {
             "colorbar": {
              "outlinewidth": 0,
              "tickcolor": "rgb(237,237,237)",
              "ticklen": 6,
              "ticks": "inside"
             }
            },
            "type": "scatterternary"
           }
          ],
          "surface": [
           {
            "colorbar": {
             "outlinewidth": 0,
             "tickcolor": "rgb(237,237,237)",
             "ticklen": 6,
             "ticks": "inside"
            },
            "colorscale": [
             [
              0,
              "rgb(20,44,66)"
             ],
             [
              1,
              "rgb(90,179,244)"
             ]
            ],
            "type": "surface"
           }
          ],
          "table": [
           {
            "cells": {
             "fill": {
              "color": "rgb(237,237,237)"
             },
             "line": {
              "color": "white"
             }
            },
            "header": {
             "fill": {
              "color": "rgb(217,217,217)"
             },
             "line": {
              "color": "white"
             }
            },
            "type": "table"
           }
          ]
         },
         "layout": {
          "annotationdefaults": {
           "arrowhead": 0,
           "arrowwidth": 1
          },
          "autotypenumbers": "strict",
          "coloraxis": {
           "colorbar": {
            "outlinewidth": 0,
            "tickcolor": "rgb(237,237,237)",
            "ticklen": 6,
            "ticks": "inside"
           }
          },
          "colorscale": {
           "sequential": [
            [
             0,
             "rgb(20,44,66)"
            ],
            [
             1,
             "rgb(90,179,244)"
            ]
           ],
           "sequentialminus": [
            [
             0,
             "rgb(20,44,66)"
            ],
            [
             1,
             "rgb(90,179,244)"
            ]
           ]
          },
          "colorway": [
           "#F8766D",
           "#A3A500",
           "#00BF7D",
           "#00B0F6",
           "#E76BF3"
          ],
          "font": {
           "color": "rgb(51,51,51)"
          },
          "geo": {
           "bgcolor": "white",
           "lakecolor": "white",
           "landcolor": "rgb(237,237,237)",
           "showlakes": true,
           "showland": true,
           "subunitcolor": "white"
          },
          "hoverlabel": {
           "align": "left"
          },
          "hovermode": "closest",
          "paper_bgcolor": "white",
          "plot_bgcolor": "rgb(237,237,237)",
          "polar": {
           "angularaxis": {
            "gridcolor": "white",
            "linecolor": "white",
            "showgrid": true,
            "tickcolor": "rgb(51,51,51)",
            "ticks": "outside"
           },
           "bgcolor": "rgb(237,237,237)",
           "radialaxis": {
            "gridcolor": "white",
            "linecolor": "white",
            "showgrid": true,
            "tickcolor": "rgb(51,51,51)",
            "ticks": "outside"
           }
          },
          "scene": {
           "xaxis": {
            "backgroundcolor": "rgb(237,237,237)",
            "gridcolor": "white",
            "gridwidth": 2,
            "linecolor": "white",
            "showbackground": true,
            "showgrid": true,
            "tickcolor": "rgb(51,51,51)",
            "ticks": "outside",
            "zerolinecolor": "white"
           },
           "yaxis": {
            "backgroundcolor": "rgb(237,237,237)",
            "gridcolor": "white",
            "gridwidth": 2,
            "linecolor": "white",
            "showbackground": true,
            "showgrid": true,
            "tickcolor": "rgb(51,51,51)",
            "ticks": "outside",
            "zerolinecolor": "white"
           },
           "zaxis": {
            "backgroundcolor": "rgb(237,237,237)",
            "gridcolor": "white",
            "gridwidth": 2,
            "linecolor": "white",
            "showbackground": true,
            "showgrid": true,
            "tickcolor": "rgb(51,51,51)",
            "ticks": "outside",
            "zerolinecolor": "white"
           }
          },
          "shapedefaults": {
           "fillcolor": "black",
           "line": {
            "width": 0
           },
           "opacity": 0.3
          },
          "ternary": {
           "aaxis": {
            "gridcolor": "white",
            "linecolor": "white",
            "showgrid": true,
            "tickcolor": "rgb(51,51,51)",
            "ticks": "outside"
           },
           "baxis": {
            "gridcolor": "white",
            "linecolor": "white",
            "showgrid": true,
            "tickcolor": "rgb(51,51,51)",
            "ticks": "outside"
           },
           "bgcolor": "rgb(237,237,237)",
           "caxis": {
            "gridcolor": "white",
            "linecolor": "white",
            "showgrid": true,
            "tickcolor": "rgb(51,51,51)",
            "ticks": "outside"
           }
          },
          "xaxis": {
           "automargin": true,
           "gridcolor": "white",
           "linecolor": "white",
           "showgrid": true,
           "tickcolor": "rgb(51,51,51)",
           "ticks": "outside",
           "title": {
            "standoff": 15
           },
           "zerolinecolor": "white"
          },
          "yaxis": {
           "automargin": true,
           "gridcolor": "white",
           "linecolor": "white",
           "showgrid": true,
           "tickcolor": "rgb(51,51,51)",
           "ticks": "outside",
           "title": {
            "standoff": 15
           },
           "zerolinecolor": "white"
          }
         }
        },
        "title": {
         "font": {
          "size": 20
         },
         "text": "When Global Warming Started?"
        },
        "xaxis": {
         "anchor": "y",
         "domain": [
          0,
          0.45
         ],
         "linecolor": "gray",
         "linewidth": 1,
         "showline": true
        },
        "xaxis2": {
         "anchor": "y2",
         "domain": [
          0.55,
          1
         ],
         "linecolor": "gray",
         "linewidth": 1,
         "showline": true
        },
        "xaxis3": {
         "anchor": "y3",
         "domain": [
          0,
          0.45
         ],
         "linecolor": "gray",
         "linewidth": 1,
         "showline": true
        },
        "xaxis4": {
         "anchor": "y4",
         "domain": [
          0.55,
          1
         ],
         "linecolor": "gray",
         "linewidth": 1,
         "showline": true
        },
        "xaxis5": {
         "anchor": "y5",
         "domain": [
          0.315,
          0.45
         ],
         "linecolor": "gray",
         "linewidth": 1,
         "showline": true
        },
        "yaxis": {
         "anchor": "x",
         "domain": [
          0.575,
          1
         ],
         "linecolor": "gray",
         "linewidth": 1,
         "showline": true
        },
        "yaxis2": {
         "anchor": "x2",
         "domain": [
          0.575,
          1
         ],
         "linecolor": "gray",
         "linewidth": 1,
         "showline": true
        },
        "yaxis3": {
         "anchor": "x3",
         "domain": [
          0,
          0.425
         ],
         "linecolor": "gray",
         "linewidth": 1,
         "showline": true
        },
        "yaxis4": {
         "anchor": "x4",
         "domain": [
          0,
          0.425
         ],
         "linecolor": "gray",
         "linewidth": 1,
         "showline": true
        },
        "yaxis5": {
         "anchor": "x5",
         "domain": [
          0.7024999999999999,
          1
         ],
         "linecolor": "gray",
         "linewidth": 1,
         "showline": true
        }
       }
      }
     },
     "metadata": {},
     "output_type": "display_data"
    }
   ],
   "source": [
    "# Figure layout\n",
    "fig = make_subplots(rows=2, cols=2, insets=[{'cell': (1,1), 'l': 0.7, 'b': 0.3}])\n",
    "fig.update_layout(title=\"When Global Warming Started?\",font=dict( family=\"Courier New, monospace\", size=12,color=\"#7f7f7f\"),\n",
    "                 template = \"ggplot2\", title_font_size = 20, hovermode= 'closest')\n",
    "fig.update_xaxes(showline=True, linewidth=1, linecolor='gray')\n",
    "fig.update_yaxes(showline=True, linewidth=1, linecolor='gray')\n",
    "\n",
    "# Figure data\n",
    "fig.add_trace(go.Scatter(x = earth_data['year'], y = earth_data['LandAverageTemperature'], mode = 'lines',\n",
    "                        name = 'Land Avg Temp', marker_color='rgb(128, 0, 0)'), row = 1, col = 1)\n",
    "fig.add_trace(go.Scatter( x=[1975, 1975], y=[7.5, 10], mode=\"lines\",line=go.scatter.Line(color=\"gray\"), showlegend=False),\n",
    "             row = 1, col = 1)\n",
    "#=============================================================================\n",
    "fig.add_trace(go.Scatter(x = earth_data['year'], y = earth_data['LandMinTemperature'], mode = 'lines',\n",
    "                        name = 'Land Min Temp', marker_color='rgb(210,105,30)'), row = 1, col = 2)\n",
    "fig.add_trace(go.Scatter( x=[1975, 1975], y=[1.5, 4.5], mode=\"lines\",line=go.scatter.Line(color=\"gray\"), showlegend=False),\n",
    "             row = 1, col = 2)\n",
    "#=============================================================================\n",
    "fig.add_trace(go.Scatter(x = earth_data['year'], y = earth_data['LandMaxTemperature'], mode = 'lines',\n",
    "                        name = 'Land Max Temp', marker_color='rgb(135,206,235)'), row = 2, col = 1)\n",
    "fig.add_trace(go.Scatter( x=[1975, 1975], y=[13, 15.5], mode=\"lines\",line=go.scatter.Line(color=\"gray\"), showlegend=False),\n",
    "             row = 2, col = 1)\n",
    "#=============================================================================\n",
    "fig.add_trace(go.Scatter(x = earth_data['year'], y = earth_data['LandAndOceanAverageTemperature'], mode = 'lines',\n",
    "                        name = 'Land&Ocean Avg Temp', marker_color='rgb(107,142,35)'), row = 2, col = 2)\n",
    "fig.add_trace(go.Scatter( x=[1975, 1975], y=[14.5, 16], mode=\"lines\",line=go.scatter.Line(color=\"gray\"), showlegend=False),\n",
    "             row = 2, col = 2)"
   ]
  },
  {
   "cell_type": "code",
   "execution_count": 9,
   "id": "4786e4e4",
   "metadata": {},
   "outputs": [
    {
     "data": {
      "application/vnd.plotly.v1+json": {
       "config": {
        "plotlyServerURL": "https://plot.ly"
       },
       "data": [
        {
         "boxmean": true,
         "boxpoints": "all",
         "jitter": 0.3,
         "marker": {
          "color": "rgb(128, 0, 0)"
         },
         "name": "Land Avg Temp",
         "orientation": "h",
         "pointpos": -1.6,
         "type": "box",
         "x": {
          "bdata": "AbnXXEiaH0D/jVBGb1sgQCD3mgtJMyBAQhm9LWsVIECyne+nxmsgQGIQWDm0OCBAqH8jlNH7H0CvALnXXAgfQBfZzvdTMyBAGy/dJAaBIEAYS36x5NcfQIlBYOXQYh9AgwfzRP07HkDmifo3QjkgQLU6Jngw7x9AVZx9+AxbIEAcoYzelpUgQIakKRVn3yBA7+7u7u5+IEBtoNMGOt0gQM2FpCkVZyBAcfbhM+w6IEApFWcfPmMgQLes1THBsyBAy6FFtvPdIEDQaQOdNnAfQB8+w64AKSBAREREREQUIUBFtvP91KghQLWBThvoVCBAzczMzMw8IEChjN6WtYogQD98hl0BQiBArwC511zoH0DLWh0TPBgfQPs3Qhm9rR9AxSCwcmjRH0A8mCfq36gfQHWTGARWLiBAF9nO91OjIEBjyS+W/OIfQFfHBA/mCSBAgU4b6LQhIECTGARWDh0gQN9PjZduUiBAJQaBlUNLIEC4Za2OCW4gQJb8YskvliBAQWDl0CJbIEBx9uEz7MogQEvF2YfPACFAOfvwGXYVIUCfYVeA3JsgQF0Bcq+5cCBARf0boYwuIEAg95oLSXMgQCtA7jUXwiBAV8cED+bJH0Cj/o1QRl8gQCUGgZVDWyBAGQRWDi1yIEC0yHa+n1ogQOUXS36xVCBAnMQgsHKYIEB1kxgEVi4hQEPSlIqzLyFAF9nO91NzIECMJb9Y8gsgQGPJL5b8QiBAwcqhRbbDIEBH4XoUrrcgQDEIrBxaJCFAN4lBYOXQIEDflrU6JtggQPFgnqh/AyFAlYqzD58RIUB7zYWkKXUhQBvotIFOCyFAyuhtWatDIUBmrY4JHnwgQCfq3whlRCFAx0s3iUFwIUAMAiuHFmkhQHe+nxovrSBAgk4b6LRBIUDy0k1iEAghQM/3U+OlGyFAJb9Y8otlIUAU9W+EMrohQF9zIWlKhSFAblmrY4KHIUCjt2WtjokhQKtjggfzdCFAuddcSJqCIUBxPQrXo7AhQP+NUEZvKyFAvuZC0pRaIUDotIFOG5ghQHWTGARWfiFAI9v5fmosIUBfukkMArsgQLQPn2FXQCFAEVg5tMhGIUCPwvUoXL8hQNKUirMPHyFAcT0K16NAIUC/WPKLJY8gQNejcD0KdyFAXI/C9SiMIUDEZ9gVIHchQHsUrkfhKiFApeLsw2eYIUDUvxHK6H0hQIPAyqFFtiFAeDBP1L/RIEC3Za2OCQ4hQH8jlNHbMiFAXUiaUnFmIUCvALnXXAghQGcfPsOuMCFA/RuhjN5mIUCJQWDl0DIhQDCW/GLJ/yBAL90kBoHlIUCPwvUoXO8gQFFGb8tafSFAbxKDwMqxIEAX2c73U7MhQKabxCCwYiFAblmrY4J3IUDPsCtA7vUhQLWBThvoVCJApw102kBHIUBhV4Dcaw4iQA/mifo3YiFAN4lBYOVQIUCOUEZvy6ohQIDcay4k/SFAsStA7jVnIkDx0k1iENghQBhLfrHkdyJAn2FXgNxbIkA2F5KmVKwhQMXZh8+wuyFApHA9CtcTIkCCThvotLEiQJE0peLsEyJAPsOuALlnIkDZFSD3mgsjQEmaUnH2kSJA4cE8Uf9mIkBERERERNQiQHTaQKcNJCNAivo3QhkNI0CW/GLJL6YiQP0boYzeZiNAcT0K16MQI0D9G6GM3nYjQJMYBFYO3SJAppvEILACI0AFD+aJ+mcjQNV46SYxCCNAt6zVMcEDI0BKDAIrhzYjQFeA3GsuJCNAtvP91HipI0A=",
          "dtype": "f8"
         },
         "xaxis": "x",
         "y": [
          "before",
          "before",
          "before",
          "before",
          "before",
          "before",
          "before",
          "before",
          "before",
          "before",
          "before",
          "before",
          "before",
          "before",
          "before",
          "before",
          "before",
          "before",
          "before",
          "before",
          "before",
          "before",
          "before",
          "before",
          "before",
          "before",
          "before",
          "before",
          "before",
          "before",
          "before",
          "before",
          "before",
          "before",
          "before",
          "before",
          "before",
          "before",
          "before",
          "before",
          "before",
          "before",
          "before",
          "before",
          "before",
          "before",
          "before",
          "before",
          "before",
          "before",
          "before",
          "before",
          "before",
          "before",
          "before",
          "before",
          "before",
          "before",
          "before",
          "before",
          "before",
          "before",
          "before",
          "before",
          "before",
          "before",
          "before",
          "before",
          "before",
          "before",
          "before",
          "before",
          "before",
          "before",
          "before",
          "before",
          "before",
          "before",
          "before",
          "before",
          "before",
          "before",
          "before",
          "before",
          "before",
          "before",
          "before",
          "before",
          "before",
          "before",
          "before",
          "before",
          "before",
          "before",
          "before",
          "before",
          "before",
          "before",
          "before",
          "before",
          "before",
          "before",
          "before",
          "before",
          "before",
          "before",
          "before",
          "before",
          "before",
          "before",
          "before",
          "before",
          "before",
          "before",
          "before",
          "before",
          "before",
          "before",
          "before",
          "before",
          "before",
          "before",
          "before",
          "before",
          "before",
          "before",
          "after",
          "after",
          "after",
          "after",
          "after",
          "after",
          "after",
          "after",
          "after",
          "after",
          "after",
          "after",
          "after",
          "after",
          "after",
          "after",
          "after",
          "after",
          "after",
          "after",
          "after",
          "after",
          "after",
          "after",
          "after",
          "after",
          "after",
          "after",
          "after",
          "after",
          "after",
          "after",
          "after",
          "after",
          "after",
          "after",
          "after",
          "after",
          "after",
          "after"
         ],
         "yaxis": "y"
        },
        {
         "boxmean": true,
         "boxpoints": "all",
         "jitter": 0.3,
         "marker": {
          "color": "rgb(210,105,30)"
         },
         "name": "Land Min Temp",
         "orientation": "h",
         "pointpos": -1.6,
         "type": "box",
         "x": {
          "bdata": "078Ryuht/z+VirMPn6EBQBkEVg4tsgJASOF6FK5H/j9k9Las1TH8PwtJUyrOPvs/G3YFyL1m+D8boYzelrX9P4lBYOXQ4gBAYVeA3GuuA0BBpw102sACQCcxCKwcGgJA6SYxCKzcA0BjyS+W/CIGQPvwGXYFSANAHRM8mCdqBEBpke18P3UDQByhjN6WtQNAjwkezBP1AkAsQO41F1IBQLJWxwQPZgNA3SQGgZVDAUAleDBP1H8BQMNn2BUgd/4/frHkF0t+AEDTBjptoNP5P62OCR7MEwFAvS1rdUwwBUDbQKcNdNoHQJWKsw+foQBAfYZdAXJvAEDcay4kTWkDQIfPsCtALgJAe82FpCkV/j93vp8aL136P7ByaJHt/P0/WMcED+aJ/z+bffgMu4L+P5A0peLsQ/8/PJgn6t/IAkDrJjEIrJz9P7ByaJHtfP4/tYFOG+i0/z+4rNUxwYP+Pz0K16Nw/QBAG+i0gU6bAEBeukkMAusAQAG511xIWgJA001iEFg5AUBKxdmHz3ADQGfYFSD3mgRABoGVQ4vsA0DhehSuR6EBQEVERERERAJAa3VM8GBeAUDl0CLb+b4CQFeA3Gsu5ANAUyrOPnwGAEDZzvdT42UBQJx9+Ay7QgFAdgXIveZCAUCzD59hVwACQM/3U+OlmwFANOwKkHuNAkC/WPKLJX8FQGdmZmZmJgVAmZmZmZkZAkDptIFOGygAQElTKs4+fAFAqH8jlNGbA0A3iUFg5ZADQKmqqqqqagVAd3d3d3d3A0BmZmZmZqYDQPNE/RuhDARAoUW28/1UBECzVscEDyYGQNR46SYxSARAf2q8dJNYBUB2TPBgnmgCQOtRuB6F6wVAGb0ta3WMBkCZmZmZmRkGQHKvuZA0ZQNASZpScfYhBkDByqFFtrMEQCrOPnyGHQVAAAAAAAAABkDdJAaBlUMIQNgVIPeaCwdAhaQpFWcfB0CfqH8jlFEHQDcXkqZUXAdApSkVZx9+B0AU9W+EMnoIQPs3Qhm9LQZAmCfq3wilBkB3d3d3d7cHQJNfLPnFUgdAhDJ6W9ZqBkAta3VM8KAEQLC5kDSl4gVAQ9KUirOPBkAQn2FXgNwIQG2g0wY67QZAWIDcay7kBkBYObTIdn4EQDVeukkMAghA0CLb+X7qCEBrdUzwYN4IQNCwK0DudQdAR+F6FK4HCUCfqH8jlBEIQJ19+Ay7QglAQO41F5ImBkAvJE2pOLsGQD98hl0BMgdAjCW/WPJLCEDP91PjpdsGQHTaQKcNtAdAZDvfT41XCEClm8QgsLIHQBDmifo3wgZAqTj78Bn2CkCPCR7MEzUHQAQP5on69whAYCz5xZLfBUAb6LSBTlsKQLhlrY4JXglAdCFpSsWZCUDX6pjgwTwLQG+EMnpbFg1AEcrobVnrCUARyuhtWWsMQFg5tMh2fglANKXi7MNnCUDBg3mi/o0KQOdC0pSKcwtACKwcWmQ7DUDgCGX0tqwKQIXrUbgeRQ1AFPVvhDL6DEDP91PjpRsKQAc6baDTRgpAOEIZvS0rC0BU46WbxKANQPNE/RuhDAtAay4kTam4DEAYS36x5JcPQBm9LWt1TA1AWx0TPJinDEC5kDSl4uwNQKuqqqqq6g5A9+Ez7ArQDkBdAXKvuVANQAFyr7mQdBBAOEIZvS3rDkC28/3UeAkQQBm9LWt1zA1A7MNn2BVgDkCSplScfRgQQNGUirMPnw5A80T9G6EMDkDkXnMhaUoPQBODwMqhBQ9ApeLsw2eYEEA=",
          "dtype": "f8"
         },
         "xaxis": "x2",
         "y": [
          "before",
          "before",
          "before",
          "before",
          "before",
          "before",
          "before",
          "before",
          "before",
          "before",
          "before",
          "before",
          "before",
          "before",
          "before",
          "before",
          "before",
          "before",
          "before",
          "before",
          "before",
          "before",
          "before",
          "before",
          "before",
          "before",
          "before",
          "before",
          "before",
          "before",
          "before",
          "before",
          "before",
          "before",
          "before",
          "before",
          "before",
          "before",
          "before",
          "before",
          "before",
          "before",
          "before",
          "before",
          "before",
          "before",
          "before",
          "before",
          "before",
          "before",
          "before",
          "before",
          "before",
          "before",
          "before",
          "before",
          "before",
          "before",
          "before",
          "before",
          "before",
          "before",
          "before",
          "before",
          "before",
          "before",
          "before",
          "before",
          "before",
          "before",
          "before",
          "before",
          "before",
          "before",
          "before",
          "before",
          "before",
          "before",
          "before",
          "before",
          "before",
          "before",
          "before",
          "before",
          "before",
          "before",
          "before",
          "before",
          "before",
          "before",
          "before",
          "before",
          "before",
          "before",
          "before",
          "before",
          "before",
          "before",
          "before",
          "before",
          "before",
          "before",
          "before",
          "before",
          "before",
          "before",
          "before",
          "before",
          "before",
          "before",
          "before",
          "before",
          "before",
          "before",
          "before",
          "before",
          "before",
          "before",
          "before",
          "before",
          "before",
          "before",
          "before",
          "before",
          "before",
          "before",
          "after",
          "after",
          "after",
          "after",
          "after",
          "after",
          "after",
          "after",
          "after",
          "after",
          "after",
          "after",
          "after",
          "after",
          "after",
          "after",
          "after",
          "after",
          "after",
          "after",
          "after",
          "after",
          "after",
          "after",
          "after",
          "after",
          "after",
          "after",
          "after",
          "after",
          "after",
          "after",
          "after",
          "after",
          "after",
          "after",
          "after",
          "after",
          "after",
          "after"
         ],
         "yaxis": "y2"
        },
        {
         "boxmean": true,
         "boxpoints": "all",
         "jitter": 0.3,
         "marker": {
          "color": "rgb(135,206,235)"
         },
         "name": "Land Max Temp",
         "orientation": "h",
         "pointpos": -1.6,
         "type": "box",
         "x": {
          "bdata": "dNpApw30KkC38/3UeCkqQP+NUEZvyypA0LArQO7FK0AfzBP1b/QrQBCfYVeA/CpAVOOlm8TwKkD34TPsCuAqQARWDi2yXStAk6ZUnH24K0DP91PjpesrQC2yne+ntitAPN9PjZd+LEBHKKO3ZT0rQFQqzj581itAdUzwYJ6YLECsY4IH81QsQEFg5dAiSyxAIyIiIiIyLEDdJAaBlSMsQOMz7AqQayxAP8OuALn3K0BImlJx9pEsQHOvuZA0BSxAMQisHFrEK0A7JngwTwQsQDPBg3mi3itANReSplTcLECDB/NE/XstQIts5/upISxAy+htWavTK0BpA5020BksQNEi2/l+OixA6SYxCKzsK0DziyW/WGIrQJx9+Ay70itA+FPjpZvkK0A/w64AuccrQLHkF0t+0StAQO41F5KWLEDYFSD3mtsrQBERERERESxAL2t1TPDwK0BgLPnFkt8rQNv5fmq8FCxANaXi7MMnLECnDXTaQDcsQFcOLbKdXyxAJJTR27J2LEB0IWlKxaksQIGVQ4tsxyxAjd6WtToGLUDRItv5frosQJVDi2znKyxAe1vW6pggLEAwT9S/ESosQLByaJHtfCxAF5KmVJydK0CkcD0K1xMsQBiSplScDSxAZfS2rNUxLEB0IWlKxfkrQBzotIFOGyxAne+nxktnLEAbL90kBqEsQJNfLPnF8ixAeDBP1L8xLEAwT9S/EdorQHDLWh0T7CtA9+Ez7ApQLEAVIPeaC0ksQN1rLiRN2SxADAIrhxZpLECUGARWDl0sQLnXXEiacixAvS1rdUywLEBlO99PjecsQJGmVJx9mCxAwBHK6G25LECHXQFyr+krQNejcD0KpyxA9P3UeOnWLEBtoNMGOt0sQOi0gU4bKCxA3Pl+arzELEB3Bci95pIsQBERERERoSxAm1Jx9uHzLEDX6pjgwUwtQJe1OiZ4MC1Ak6ZUnH0oLUDME/VvhBItQKjGSzeJES1A3Pl+arw0LUA7JngwT3QtQHE9Ctej4CxASwwCK4f2LEAAAAAAACAtQDhCGb0tOy1AOyZ4ME/ULEApXI/C9VgsQElTKs4+3CxAw64AudfsLECd76fGS0ctQJx9+Ay7kixAk6ZUnH2oLEBlrY4JHgwsQOdC0pSKwyxAFK5H4Xr0LEBoke18P9UsQMwT9W+EoixAUf9GKKMHLUADcq+5kBQtQLfz/dR4OS1AvS1rdUxQLEDAEcrobYksQP0boYzepixA5KWbxCDQLEBrvHSTGFQsQPxiyS+WbCxAWDm0yHbOLED4U+Olm7QsQB/ME/VvVCxAbxKDwMohLUBNqTj78CksQB/ME/VvxCxAa7x0kxgELEB/arx0k/gsQAAAAAAAkCxA7Xw/NV7qLECIiIiIiFgtQOPsw2fYtS1AME/UvxGaLEBwy1odE1wtQHyGXQFyryxAUNS/EcqILEB1TPBgnggtQHui/o1QZi1ASOF6FK7HLUCR7Xw/NT4tQPiaC0lT6i1A393d3d2tLUDYXEiaUvEsQCgxCKwcCi1ATDeJQWB1LUArzj58hg0uQLfz/dR4eS1AI9v5fmq8LUAZdgXIvVYuQLtJDAIr9y1AU3H24TPMLUCx5BdLflEuQBM8mCfqny5ATPBgnqh/LkDwp8ZLNwkuQEdvy1odsy5AoBov3SSGLkAta3VM8BAvQBgEVg4tYi5Ak6ZUnH2ILkDZzvdT4+UuQGX0tqzVkS5A5F5zIWmqLkCHpCkVZ78uQIR5ov6NoC5Ac6+5kDQlL0A=",
          "dtype": "f8"
         },
         "xaxis": "x3",
         "y": [
          "before",
          "before",
          "before",
          "before",
          "before",
          "before",
          "before",
          "before",
          "before",
          "before",
          "before",
          "before",
          "before",
          "before",
          "before",
          "before",
          "before",
          "before",
          "before",
          "before",
          "before",
          "before",
          "before",
          "before",
          "before",
          "before",
          "before",
          "before",
          "before",
          "before",
          "before",
          "before",
          "before",
          "before",
          "before",
          "before",
          "before",
          "before",
          "before",
          "before",
          "before",
          "before",
          "before",
          "before",
          "before",
          "before",
          "before",
          "before",
          "before",
          "before",
          "before",
          "before",
          "before",
          "before",
          "before",
          "before",
          "before",
          "before",
          "before",
          "before",
          "before",
          "before",
          "before",
          "before",
          "before",
          "before",
          "before",
          "before",
          "before",
          "before",
          "before",
          "before",
          "before",
          "before",
          "before",
          "before",
          "before",
          "before",
          "before",
          "before",
          "before",
          "before",
          "before",
          "before",
          "before",
          "before",
          "before",
          "before",
          "before",
          "before",
          "before",
          "before",
          "before",
          "before",
          "before",
          "before",
          "before",
          "before",
          "before",
          "before",
          "before",
          "before",
          "before",
          "before",
          "before",
          "before",
          "before",
          "before",
          "before",
          "before",
          "before",
          "before",
          "before",
          "before",
          "before",
          "before",
          "before",
          "before",
          "before",
          "before",
          "before",
          "before",
          "before",
          "before",
          "before",
          "before",
          "after",
          "after",
          "after",
          "after",
          "after",
          "after",
          "after",
          "after",
          "after",
          "after",
          "after",
          "after",
          "after",
          "after",
          "after",
          "after",
          "after",
          "after",
          "after",
          "after",
          "after",
          "after",
          "after",
          "after",
          "after",
          "after",
          "after",
          "after",
          "after",
          "after",
          "after",
          "after",
          "after",
          "after",
          "after",
          "after",
          "after",
          "after",
          "after",
          "after"
         ],
         "yaxis": "y3"
        },
        {
         "boxmean": true,
         "boxpoints": "all",
         "jitter": 0.3,
         "marker": {
          "color": "rgb(107,142,35)"
         },
         "name": "Land&Ocean Avg Temp",
         "orientation": "h",
         "pointpos": -1.6,
         "type": "box",
         "x": {
          "bdata": "gwfzRP27LUCpfyOU0fstQBfZzvdTAy5AFyD3mgvpLUAIrBxaZPstQI9QRm/LCi5AD+aJ+jfCLUBNYhBYOYQtQBfZzvdTwy1AZa2OCR7cLUB02kCnDcQtQE2pOPvwmS1AcfbhM+x6LUDIdr6fGt8tQF+6SQwCyy1Af7HkF0v+LUB3vp8aLx0uQLhlrY4JHi5AlYqzD58xLkCoxks3iSEuQA/mifo3Ai5AWatjggcDLkBXxwQP5gkuQPCnxks3GS5ARIts5/vpLUD78Bl2BdgtQJWKsw+f0S1AXQFyr7mQLkDgwTxR/7YuQCRNqTj7IC5AH8wT9W8ELkDzRP0boSwuQKdUnH34HC5Ad76fGi/tLUC0yHa+n6otQDj78Bl2tS1Az/dT46WrLUBvEoPAyqEtQKdUnH34/C1AME/UvxE6LkBYObTIdq4tQCkVZx8+4y1ApHA9CtfDLUBQjZduEtMtQDEIrBxa1C1A46WbxCDwLUBrdUzwYC4uQEDuNReSJi5AqTj78BnGLUBZ8oslvxguQIddAXKvSS5AJb9Y8oslLkCrqqqqquotQDUXkqZUrC1A8O7u7u6eLUBP1L8RyugtQLQPn2FXEC5AEzyYJ+q/LUCA3GsuJK0tQO81F5KmlC1ADbsC5F6jLUBbZDvfT40tQAjzRP0bwS1A4XoUrkfRLUDXo3A9CicuQJmZmZmZSS5ANOwKkHvNLUA830+Nl54tQP+NUEZv6y1A+35qvHQDLkA9CtejcA0uQEVERERENC5AeaL+jVAGLkCIz7ArQA4uQGGeqH8jFC5AiM+wK0AuLkD/jVBGb3suQDzfT42XPi5AwMqhRbZDLkCZ4ME8Ue8tQLgehetRWC5Av58aL910LkDHSzeJQWAuQDfQaQOdBi5ARIts5/tJLkDDrgC51zwuQI8JHswTVS5AYOXQItuZLkCzVscED5YuQI1QRm/Lmi5ATxvotIG+LkCsY4IH88QuQEDuNReSpi5AcD0K16OwLkDQsCtA7uUuQNNNYhBYqS5ASwwCK4eGLkAMSVMqzp4uQP9GKKO3hS5ANV66SQxyLkCBlUOLbEcuQJngwTxRny5AV8cED+a5LkBbHRM8mNcuQLNWxwQPdi5A54n6N0JZLkCEwMqhRTYuQGlKxdmHvy5A1AY6baDDLkB0kxgEVq4uQDn78Bl2lS5AzBP1b4TCLkAklNHbsqYuQEGnDXTawC5AjCW/WPI7LkBPYhBYOWQuQG1Zq2OChy5AN9BpA52WLkDEZ9gVIIcuQA8tsp3vxy5A95oLSVOqLkBnZmZmZmYuQMeSXyz5lS5ArBxaZDvPLkCzVscED1YuQBT1b4Qyei5AR2/LWh1DLkAbL90kBtEuQDBP1L8Rmi5AdNpApw3ULkCofyOU0fsuQMM8Uf9GCC9A05SKsw+vLkDtfD81XgovQNBpA502sC5AYVeA3GuuLkD4U+Olm8QuQAeBlUOLDC9AB4GVQ4scL0AsQO41F+IuQA/mifo3Qi9AGARWDi0yL0APLbKd7+cuQAxJUyrO7i5AUbgehesRL0BA7jUXkkYvQPNE/RuhDC9ANOwKkHttL0D0/dR46aYvQA27AuReMy9AbC4kTak4L0ApXI/C9YgvQImIiIiIqC9AsStA7jWnL0DAyqFFtoMvQBgEVg4twi9AjZduEoOgL0BbHRM8mKcvQOF6FK5HcS9AbVmrY4KnL0DQItv5fsovQESLbOf7iS9Aj1BGb8uaL0A5+/AZdrUvQPl+arx00y9A4cE8Uf8OMEA=",
          "dtype": "f8"
         },
         "xaxis": "x4",
         "y": [
          "before",
          "before",
          "before",
          "before",
          "before",
          "before",
          "before",
          "before",
          "before",
          "before",
          "before",
          "before",
          "before",
          "before",
          "before",
          "before",
          "before",
          "before",
          "before",
          "before",
          "before",
          "before",
          "before",
          "before",
          "before",
          "before",
          "before",
          "before",
          "before",
          "before",
          "before",
          "before",
          "before",
          "before",
          "before",
          "before",
          "before",
          "before",
          "before",
          "before",
          "before",
          "before",
          "before",
          "before",
          "before",
          "before",
          "before",
          "before",
          "before",
          "before",
          "before",
          "before",
          "before",
          "before",
          "before",
          "before",
          "before",
          "before",
          "before",
          "before",
          "before",
          "before",
          "before",
          "before",
          "before",
          "before",
          "before",
          "before",
          "before",
          "before",
          "before",
          "before",
          "before",
          "before",
          "before",
          "before",
          "before",
          "before",
          "before",
          "before",
          "before",
          "before",
          "before",
          "before",
          "before",
          "before",
          "before",
          "before",
          "before",
          "before",
          "before",
          "before",
          "before",
          "before",
          "before",
          "before",
          "before",
          "before",
          "before",
          "before",
          "before",
          "before",
          "before",
          "before",
          "before",
          "before",
          "before",
          "before",
          "before",
          "before",
          "before",
          "before",
          "before",
          "before",
          "before",
          "before",
          "before",
          "before",
          "before",
          "before",
          "before",
          "before",
          "before",
          "before",
          "before",
          "before",
          "after",
          "after",
          "after",
          "after",
          "after",
          "after",
          "after",
          "after",
          "after",
          "after",
          "after",
          "after",
          "after",
          "after",
          "after",
          "after",
          "after",
          "after",
          "after",
          "after",
          "after",
          "after",
          "after",
          "after",
          "after",
          "after",
          "after",
          "after",
          "after",
          "after",
          "after",
          "after",
          "after",
          "after",
          "after",
          "after",
          "after",
          "after",
          "after",
          "after"
         ],
         "yaxis": "y4"
        }
       ],
       "layout": {
        "font": {
         "color": "#7f7f7f",
         "family": "Courier New, monospace",
         "size": 12
        },
        "hovermode": "closest",
        "template": {
         "data": {
          "bar": [
           {
            "error_x": {
             "color": "rgb(51,51,51)"
            },
            "error_y": {
             "color": "rgb(51,51,51)"
            },
            "marker": {
             "line": {
              "color": "rgb(237,237,237)",
              "width": 0.5
             },
             "pattern": {
              "fillmode": "overlay",
              "size": 10,
              "solidity": 0.2
             }
            },
            "type": "bar"
           }
          ],
          "barpolar": [
           {
            "marker": {
             "line": {
              "color": "rgb(237,237,237)",
              "width": 0.5
             },
             "pattern": {
              "fillmode": "overlay",
              "size": 10,
              "solidity": 0.2
             }
            },
            "type": "barpolar"
           }
          ],
          "carpet": [
           {
            "aaxis": {
             "endlinecolor": "rgb(51,51,51)",
             "gridcolor": "white",
             "linecolor": "white",
             "minorgridcolor": "white",
             "startlinecolor": "rgb(51,51,51)"
            },
            "baxis": {
             "endlinecolor": "rgb(51,51,51)",
             "gridcolor": "white",
             "linecolor": "white",
             "minorgridcolor": "white",
             "startlinecolor": "rgb(51,51,51)"
            },
            "type": "carpet"
           }
          ],
          "choropleth": [
           {
            "colorbar": {
             "outlinewidth": 0,
             "tickcolor": "rgb(237,237,237)",
             "ticklen": 6,
             "ticks": "inside"
            },
            "type": "choropleth"
           }
          ],
          "contour": [
           {
            "colorbar": {
             "outlinewidth": 0,
             "tickcolor": "rgb(237,237,237)",
             "ticklen": 6,
             "ticks": "inside"
            },
            "colorscale": [
             [
              0,
              "rgb(20,44,66)"
             ],
             [
              1,
              "rgb(90,179,244)"
             ]
            ],
            "type": "contour"
           }
          ],
          "contourcarpet": [
           {
            "colorbar": {
             "outlinewidth": 0,
             "tickcolor": "rgb(237,237,237)",
             "ticklen": 6,
             "ticks": "inside"
            },
            "type": "contourcarpet"
           }
          ],
          "heatmap": [
           {
            "colorbar": {
             "outlinewidth": 0,
             "tickcolor": "rgb(237,237,237)",
             "ticklen": 6,
             "ticks": "inside"
            },
            "colorscale": [
             [
              0,
              "rgb(20,44,66)"
             ],
             [
              1,
              "rgb(90,179,244)"
             ]
            ],
            "type": "heatmap"
           }
          ],
          "histogram": [
           {
            "marker": {
             "pattern": {
              "fillmode": "overlay",
              "size": 10,
              "solidity": 0.2
             }
            },
            "type": "histogram"
           }
          ],
          "histogram2d": [
           {
            "colorbar": {
             "outlinewidth": 0,
             "tickcolor": "rgb(237,237,237)",
             "ticklen": 6,
             "ticks": "inside"
            },
            "colorscale": [
             [
              0,
              "rgb(20,44,66)"
             ],
             [
              1,
              "rgb(90,179,244)"
             ]
            ],
            "type": "histogram2d"
           }
          ],
          "histogram2dcontour": [
           {
            "colorbar": {
             "outlinewidth": 0,
             "tickcolor": "rgb(237,237,237)",
             "ticklen": 6,
             "ticks": "inside"
            },
            "colorscale": [
             [
              0,
              "rgb(20,44,66)"
             ],
             [
              1,
              "rgb(90,179,244)"
             ]
            ],
            "type": "histogram2dcontour"
           }
          ],
          "mesh3d": [
           {
            "colorbar": {
             "outlinewidth": 0,
             "tickcolor": "rgb(237,237,237)",
             "ticklen": 6,
             "ticks": "inside"
            },
            "type": "mesh3d"
           }
          ],
          "parcoords": [
           {
            "line": {
             "colorbar": {
              "outlinewidth": 0,
              "tickcolor": "rgb(237,237,237)",
              "ticklen": 6,
              "ticks": "inside"
             }
            },
            "type": "parcoords"
           }
          ],
          "pie": [
           {
            "automargin": true,
            "type": "pie"
           }
          ],
          "scatter": [
           {
            "fillpattern": {
             "fillmode": "overlay",
             "size": 10,
             "solidity": 0.2
            },
            "type": "scatter"
           }
          ],
          "scatter3d": [
           {
            "line": {
             "colorbar": {
              "outlinewidth": 0,
              "tickcolor": "rgb(237,237,237)",
              "ticklen": 6,
              "ticks": "inside"
             }
            },
            "marker": {
             "colorbar": {
              "outlinewidth": 0,
              "tickcolor": "rgb(237,237,237)",
              "ticklen": 6,
              "ticks": "inside"
             }
            },
            "type": "scatter3d"
           }
          ],
          "scattercarpet": [
           {
            "marker": {
             "colorbar": {
              "outlinewidth": 0,
              "tickcolor": "rgb(237,237,237)",
              "ticklen": 6,
              "ticks": "inside"
             }
            },
            "type": "scattercarpet"
           }
          ],
          "scattergeo": [
           {
            "marker": {
             "colorbar": {
              "outlinewidth": 0,
              "tickcolor": "rgb(237,237,237)",
              "ticklen": 6,
              "ticks": "inside"
             }
            },
            "type": "scattergeo"
           }
          ],
          "scattergl": [
           {
            "marker": {
             "colorbar": {
              "outlinewidth": 0,
              "tickcolor": "rgb(237,237,237)",
              "ticklen": 6,
              "ticks": "inside"
             }
            },
            "type": "scattergl"
           }
          ],
          "scattermap": [
           {
            "marker": {
             "colorbar": {
              "outlinewidth": 0,
              "tickcolor": "rgb(237,237,237)",
              "ticklen": 6,
              "ticks": "inside"
             }
            },
            "type": "scattermap"
           }
          ],
          "scattermapbox": [
           {
            "marker": {
             "colorbar": {
              "outlinewidth": 0,
              "tickcolor": "rgb(237,237,237)",
              "ticklen": 6,
              "ticks": "inside"
             }
            },
            "type": "scattermapbox"
           }
          ],
          "scatterpolar": [
           {
            "marker": {
             "colorbar": {
              "outlinewidth": 0,
              "tickcolor": "rgb(237,237,237)",
              "ticklen": 6,
              "ticks": "inside"
             }
            },
            "type": "scatterpolar"
           }
          ],
          "scatterpolargl": [
           {
            "marker": {
             "colorbar": {
              "outlinewidth": 0,
              "tickcolor": "rgb(237,237,237)",
              "ticklen": 6,
              "ticks": "inside"
             }
            },
            "type": "scatterpolargl"
           }
          ],
          "scatterternary": [
           {
            "marker": {
             "colorbar": {
              "outlinewidth": 0,
              "tickcolor": "rgb(237,237,237)",
              "ticklen": 6,
              "ticks": "inside"
             }
            },
            "type": "scatterternary"
           }
          ],
          "surface": [
           {
            "colorbar": {
             "outlinewidth": 0,
             "tickcolor": "rgb(237,237,237)",
             "ticklen": 6,
             "ticks": "inside"
            },
            "colorscale": [
             [
              0,
              "rgb(20,44,66)"
             ],
             [
              1,
              "rgb(90,179,244)"
             ]
            ],
            "type": "surface"
           }
          ],
          "table": [
           {
            "cells": {
             "fill": {
              "color": "rgb(237,237,237)"
             },
             "line": {
              "color": "white"
             }
            },
            "header": {
             "fill": {
              "color": "rgb(217,217,217)"
             },
             "line": {
              "color": "white"
             }
            },
            "type": "table"
           }
          ]
         },
         "layout": {
          "annotationdefaults": {
           "arrowhead": 0,
           "arrowwidth": 1
          },
          "autotypenumbers": "strict",
          "coloraxis": {
           "colorbar": {
            "outlinewidth": 0,
            "tickcolor": "rgb(237,237,237)",
            "ticklen": 6,
            "ticks": "inside"
           }
          },
          "colorscale": {
           "sequential": [
            [
             0,
             "rgb(20,44,66)"
            ],
            [
             1,
             "rgb(90,179,244)"
            ]
           ],
           "sequentialminus": [
            [
             0,
             "rgb(20,44,66)"
            ],
            [
             1,
             "rgb(90,179,244)"
            ]
           ]
          },
          "colorway": [
           "#F8766D",
           "#A3A500",
           "#00BF7D",
           "#00B0F6",
           "#E76BF3"
          ],
          "font": {
           "color": "rgb(51,51,51)"
          },
          "geo": {
           "bgcolor": "white",
           "lakecolor": "white",
           "landcolor": "rgb(237,237,237)",
           "showlakes": true,
           "showland": true,
           "subunitcolor": "white"
          },
          "hoverlabel": {
           "align": "left"
          },
          "hovermode": "closest",
          "paper_bgcolor": "white",
          "plot_bgcolor": "rgb(237,237,237)",
          "polar": {
           "angularaxis": {
            "gridcolor": "white",
            "linecolor": "white",
            "showgrid": true,
            "tickcolor": "rgb(51,51,51)",
            "ticks": "outside"
           },
           "bgcolor": "rgb(237,237,237)",
           "radialaxis": {
            "gridcolor": "white",
            "linecolor": "white",
            "showgrid": true,
            "tickcolor": "rgb(51,51,51)",
            "ticks": "outside"
           }
          },
          "scene": {
           "xaxis": {
            "backgroundcolor": "rgb(237,237,237)",
            "gridcolor": "white",
            "gridwidth": 2,
            "linecolor": "white",
            "showbackground": true,
            "showgrid": true,
            "tickcolor": "rgb(51,51,51)",
            "ticks": "outside",
            "zerolinecolor": "white"
           },
           "yaxis": {
            "backgroundcolor": "rgb(237,237,237)",
            "gridcolor": "white",
            "gridwidth": 2,
            "linecolor": "white",
            "showbackground": true,
            "showgrid": true,
            "tickcolor": "rgb(51,51,51)",
            "ticks": "outside",
            "zerolinecolor": "white"
           },
           "zaxis": {
            "backgroundcolor": "rgb(237,237,237)",
            "gridcolor": "white",
            "gridwidth": 2,
            "linecolor": "white",
            "showbackground": true,
            "showgrid": true,
            "tickcolor": "rgb(51,51,51)",
            "ticks": "outside",
            "zerolinecolor": "white"
           }
          },
          "shapedefaults": {
           "fillcolor": "black",
           "line": {
            "width": 0
           },
           "opacity": 0.3
          },
          "ternary": {
           "aaxis": {
            "gridcolor": "white",
            "linecolor": "white",
            "showgrid": true,
            "tickcolor": "rgb(51,51,51)",
            "ticks": "outside"
           },
           "baxis": {
            "gridcolor": "white",
            "linecolor": "white",
            "showgrid": true,
            "tickcolor": "rgb(51,51,51)",
            "ticks": "outside"
           },
           "bgcolor": "rgb(237,237,237)",
           "caxis": {
            "gridcolor": "white",
            "linecolor": "white",
            "showgrid": true,
            "tickcolor": "rgb(51,51,51)",
            "ticks": "outside"
           }
          },
          "xaxis": {
           "automargin": true,
           "gridcolor": "white",
           "linecolor": "white",
           "showgrid": true,
           "tickcolor": "rgb(51,51,51)",
           "ticks": "outside",
           "title": {
            "standoff": 15
           },
           "zerolinecolor": "white"
          },
          "yaxis": {
           "automargin": true,
           "gridcolor": "white",
           "linecolor": "white",
           "showgrid": true,
           "tickcolor": "rgb(51,51,51)",
           "ticks": "outside",
           "title": {
            "standoff": 15
           },
           "zerolinecolor": "white"
          }
         }
        },
        "title": {
         "font": {
          "size": 20
         },
         "text": "Average Temperatures before and after 1975"
        },
        "xaxis": {
         "anchor": "y",
         "domain": [
          0,
          0.45
         ]
        },
        "xaxis2": {
         "anchor": "y2",
         "domain": [
          0.55,
          1
         ]
        },
        "xaxis3": {
         "anchor": "y3",
         "domain": [
          0,
          0.45
         ]
        },
        "xaxis4": {
         "anchor": "y4",
         "domain": [
          0.55,
          1
         ]
        },
        "xaxis5": {
         "anchor": "y5",
         "domain": [
          0.315,
          0.45
         ]
        },
        "yaxis": {
         "anchor": "x",
         "domain": [
          0.575,
          1
         ]
        },
        "yaxis2": {
         "anchor": "x2",
         "domain": [
          0.575,
          1
         ]
        },
        "yaxis3": {
         "anchor": "x3",
         "domain": [
          0,
          0.425
         ]
        },
        "yaxis4": {
         "anchor": "x4",
         "domain": [
          0,
          0.425
         ]
        },
        "yaxis5": {
         "anchor": "x5",
         "domain": [
          0.7024999999999999,
          1
         ]
        }
       }
      }
     },
     "metadata": {},
     "output_type": "display_data"
    }
   ],
   "source": [
    "# Change in average temperature before/after 1975\n",
    "\n",
    "# Figure layout\n",
    "fig = make_subplots(rows=2, cols=2, insets=[{'cell': (1,1), 'l': 0.7, 'b': 0.3}])\n",
    "fig.update_layout(title=\"Average Temperatures before and after 1975\",font=dict( family=\"Courier New, monospace\", size=12,color=\"#7f7f7f\"),\n",
    "                 template = \"ggplot2\", title_font_size = 20, hovermode= 'closest')\n",
    "\n",
    "# Figure data\n",
    "fig.add_trace(go.Box(x = earth_data['LandAverageTemperature'], y = earth_data['turnpoint'],boxpoints = 'all',jitter = 0.3, \n",
    "                     pointpos = -1.6, marker_color = 'rgb(128, 0, 0)', boxmean = True, name = 'Land Avg Temp'),\n",
    "             row = 1, col = 1)\n",
    "fig.add_trace(go.Box(x = earth_data['LandMinTemperature'], y = earth_data['turnpoint'],boxpoints = 'all',jitter = 0.3, \n",
    "                     pointpos = -1.6, marker_color = 'rgb(210,105,30)', boxmean = True, name = 'Land Min Temp'),\n",
    "             row = 1, col = 2)\n",
    "fig.add_trace(go.Box(x = earth_data['LandMaxTemperature'], y = earth_data['turnpoint'],boxpoints = 'all',jitter = 0.3, \n",
    "                     pointpos = -1.6, marker_color = 'rgb(135,206,235)', boxmean = True, name = 'Land Max Temp'),\n",
    "             row = 2, col = 1)\n",
    "fig.add_trace(go.Box(x = earth_data['LandAndOceanAverageTemperature'], y = earth_data['turnpoint'], boxpoints = 'all',jitter = 0.3, \n",
    "                     pointpos = -1.6, marker_color = 'rgb(107,142,35)', boxmean = True, name = 'Land&Ocean Avg Temp'),\n",
    "             row = 2, col = 2)\n",
    "\n",
    "\n",
    "fig.update_traces(orientation='h')"
   ]
  },
  {
   "cell_type": "code",
   "execution_count": 11,
   "id": "87b940b6",
   "metadata": {},
   "outputs": [
    {
     "ename": "TypeError",
     "evalue": "agg function failed [how->mean,dtype->object]",
     "output_type": "error",
     "traceback": [
      "\u001b[1;31m---------------------------------------------------------------------------\u001b[0m",
      "\u001b[1;31mTypeError\u001b[0m                                 Traceback (most recent call last)",
      "File \u001b[1;32m~\\AppData\\Local\\Packages\\PythonSoftwareFoundation.Python.3.12_qbz5n2kfra8p0\\LocalCache\\local-packages\\Python312\\site-packages\\pandas\\core\\groupby\\groupby.py:1942\u001b[0m, in \u001b[0;36mGroupBy._agg_py_fallback\u001b[1;34m(self, how, values, ndim, alt)\u001b[0m\n\u001b[0;32m   1941\u001b[0m \u001b[38;5;28;01mtry\u001b[39;00m:\n\u001b[1;32m-> 1942\u001b[0m     res_values \u001b[38;5;241m=\u001b[39m \u001b[38;5;28;43mself\u001b[39;49m\u001b[38;5;241;43m.\u001b[39;49m\u001b[43m_grouper\u001b[49m\u001b[38;5;241;43m.\u001b[39;49m\u001b[43magg_series\u001b[49m\u001b[43m(\u001b[49m\u001b[43mser\u001b[49m\u001b[43m,\u001b[49m\u001b[43m \u001b[49m\u001b[43malt\u001b[49m\u001b[43m,\u001b[49m\u001b[43m \u001b[49m\u001b[43mpreserve_dtype\u001b[49m\u001b[38;5;241;43m=\u001b[39;49m\u001b[38;5;28;43;01mTrue\u001b[39;49;00m\u001b[43m)\u001b[49m\n\u001b[0;32m   1943\u001b[0m \u001b[38;5;28;01mexcept\u001b[39;00m \u001b[38;5;167;01mException\u001b[39;00m \u001b[38;5;28;01mas\u001b[39;00m err:\n",
      "File \u001b[1;32m~\\AppData\\Local\\Packages\\PythonSoftwareFoundation.Python.3.12_qbz5n2kfra8p0\\LocalCache\\local-packages\\Python312\\site-packages\\pandas\\core\\groupby\\ops.py:864\u001b[0m, in \u001b[0;36mBaseGrouper.agg_series\u001b[1;34m(self, obj, func, preserve_dtype)\u001b[0m\n\u001b[0;32m    862\u001b[0m     preserve_dtype \u001b[38;5;241m=\u001b[39m \u001b[38;5;28;01mTrue\u001b[39;00m\n\u001b[1;32m--> 864\u001b[0m result \u001b[38;5;241m=\u001b[39m \u001b[38;5;28;43mself\u001b[39;49m\u001b[38;5;241;43m.\u001b[39;49m\u001b[43m_aggregate_series_pure_python\u001b[49m\u001b[43m(\u001b[49m\u001b[43mobj\u001b[49m\u001b[43m,\u001b[49m\u001b[43m \u001b[49m\u001b[43mfunc\u001b[49m\u001b[43m)\u001b[49m\n\u001b[0;32m    866\u001b[0m npvalues \u001b[38;5;241m=\u001b[39m lib\u001b[38;5;241m.\u001b[39mmaybe_convert_objects(result, try_float\u001b[38;5;241m=\u001b[39m\u001b[38;5;28;01mFalse\u001b[39;00m)\n",
      "File \u001b[1;32m~\\AppData\\Local\\Packages\\PythonSoftwareFoundation.Python.3.12_qbz5n2kfra8p0\\LocalCache\\local-packages\\Python312\\site-packages\\pandas\\core\\groupby\\ops.py:885\u001b[0m, in \u001b[0;36mBaseGrouper._aggregate_series_pure_python\u001b[1;34m(self, obj, func)\u001b[0m\n\u001b[0;32m    884\u001b[0m \u001b[38;5;28;01mfor\u001b[39;00m i, group \u001b[38;5;129;01min\u001b[39;00m \u001b[38;5;28menumerate\u001b[39m(splitter):\n\u001b[1;32m--> 885\u001b[0m     res \u001b[38;5;241m=\u001b[39m \u001b[43mfunc\u001b[49m\u001b[43m(\u001b[49m\u001b[43mgroup\u001b[49m\u001b[43m)\u001b[49m\n\u001b[0;32m    886\u001b[0m     res \u001b[38;5;241m=\u001b[39m extract_result(res)\n",
      "File \u001b[1;32m~\\AppData\\Local\\Packages\\PythonSoftwareFoundation.Python.3.12_qbz5n2kfra8p0\\LocalCache\\local-packages\\Python312\\site-packages\\pandas\\core\\groupby\\groupby.py:2454\u001b[0m, in \u001b[0;36mGroupBy.mean.<locals>.<lambda>\u001b[1;34m(x)\u001b[0m\n\u001b[0;32m   2451\u001b[0m \u001b[38;5;28;01melse\u001b[39;00m:\n\u001b[0;32m   2452\u001b[0m     result \u001b[38;5;241m=\u001b[39m \u001b[38;5;28mself\u001b[39m\u001b[38;5;241m.\u001b[39m_cython_agg_general(\n\u001b[0;32m   2453\u001b[0m         \u001b[38;5;124m\"\u001b[39m\u001b[38;5;124mmean\u001b[39m\u001b[38;5;124m\"\u001b[39m,\n\u001b[1;32m-> 2454\u001b[0m         alt\u001b[38;5;241m=\u001b[39m\u001b[38;5;28;01mlambda\u001b[39;00m x: \u001b[43mSeries\u001b[49m\u001b[43m(\u001b[49m\u001b[43mx\u001b[49m\u001b[43m,\u001b[49m\u001b[43m \u001b[49m\u001b[43mcopy\u001b[49m\u001b[38;5;241;43m=\u001b[39;49m\u001b[38;5;28;43;01mFalse\u001b[39;49;00m\u001b[43m)\u001b[49m\u001b[38;5;241;43m.\u001b[39;49m\u001b[43mmean\u001b[49m\u001b[43m(\u001b[49m\u001b[43mnumeric_only\u001b[49m\u001b[38;5;241;43m=\u001b[39;49m\u001b[43mnumeric_only\u001b[49m\u001b[43m)\u001b[49m,\n\u001b[0;32m   2455\u001b[0m         numeric_only\u001b[38;5;241m=\u001b[39mnumeric_only,\n\u001b[0;32m   2456\u001b[0m     )\n\u001b[0;32m   2457\u001b[0m     \u001b[38;5;28;01mreturn\u001b[39;00m result\u001b[38;5;241m.\u001b[39m__finalize__(\u001b[38;5;28mself\u001b[39m\u001b[38;5;241m.\u001b[39mobj, method\u001b[38;5;241m=\u001b[39m\u001b[38;5;124m\"\u001b[39m\u001b[38;5;124mgroupby\u001b[39m\u001b[38;5;124m\"\u001b[39m)\n",
      "File \u001b[1;32m~\\AppData\\Local\\Packages\\PythonSoftwareFoundation.Python.3.12_qbz5n2kfra8p0\\LocalCache\\local-packages\\Python312\\site-packages\\pandas\\core\\series.py:6549\u001b[0m, in \u001b[0;36mSeries.mean\u001b[1;34m(self, axis, skipna, numeric_only, **kwargs)\u001b[0m\n\u001b[0;32m   6541\u001b[0m \u001b[38;5;129m@doc\u001b[39m(make_doc(\u001b[38;5;124m\"\u001b[39m\u001b[38;5;124mmean\u001b[39m\u001b[38;5;124m\"\u001b[39m, ndim\u001b[38;5;241m=\u001b[39m\u001b[38;5;241m1\u001b[39m))\n\u001b[0;32m   6542\u001b[0m \u001b[38;5;28;01mdef\u001b[39;00m \u001b[38;5;21mmean\u001b[39m(\n\u001b[0;32m   6543\u001b[0m     \u001b[38;5;28mself\u001b[39m,\n\u001b[1;32m   (...)\u001b[0m\n\u001b[0;32m   6547\u001b[0m     \u001b[38;5;241m*\u001b[39m\u001b[38;5;241m*\u001b[39mkwargs,\n\u001b[0;32m   6548\u001b[0m ):\n\u001b[1;32m-> 6549\u001b[0m     \u001b[38;5;28;01mreturn\u001b[39;00m \u001b[43mNDFrame\u001b[49m\u001b[38;5;241;43m.\u001b[39;49m\u001b[43mmean\u001b[49m\u001b[43m(\u001b[49m\u001b[38;5;28;43mself\u001b[39;49m\u001b[43m,\u001b[49m\u001b[43m \u001b[49m\u001b[43maxis\u001b[49m\u001b[43m,\u001b[49m\u001b[43m \u001b[49m\u001b[43mskipna\u001b[49m\u001b[43m,\u001b[49m\u001b[43m \u001b[49m\u001b[43mnumeric_only\u001b[49m\u001b[43m,\u001b[49m\u001b[43m \u001b[49m\u001b[38;5;241;43m*\u001b[39;49m\u001b[38;5;241;43m*\u001b[39;49m\u001b[43mkwargs\u001b[49m\u001b[43m)\u001b[49m\n",
      "File \u001b[1;32m~\\AppData\\Local\\Packages\\PythonSoftwareFoundation.Python.3.12_qbz5n2kfra8p0\\LocalCache\\local-packages\\Python312\\site-packages\\pandas\\core\\generic.py:12420\u001b[0m, in \u001b[0;36mNDFrame.mean\u001b[1;34m(self, axis, skipna, numeric_only, **kwargs)\u001b[0m\n\u001b[0;32m  12413\u001b[0m \u001b[38;5;28;01mdef\u001b[39;00m \u001b[38;5;21mmean\u001b[39m(\n\u001b[0;32m  12414\u001b[0m     \u001b[38;5;28mself\u001b[39m,\n\u001b[0;32m  12415\u001b[0m     axis: Axis \u001b[38;5;241m|\u001b[39m \u001b[38;5;28;01mNone\u001b[39;00m \u001b[38;5;241m=\u001b[39m \u001b[38;5;241m0\u001b[39m,\n\u001b[1;32m   (...)\u001b[0m\n\u001b[0;32m  12418\u001b[0m     \u001b[38;5;241m*\u001b[39m\u001b[38;5;241m*\u001b[39mkwargs,\n\u001b[0;32m  12419\u001b[0m ) \u001b[38;5;241m-\u001b[39m\u001b[38;5;241m>\u001b[39m Series \u001b[38;5;241m|\u001b[39m \u001b[38;5;28mfloat\u001b[39m:\n\u001b[1;32m> 12420\u001b[0m     \u001b[38;5;28;01mreturn\u001b[39;00m \u001b[38;5;28;43mself\u001b[39;49m\u001b[38;5;241;43m.\u001b[39;49m\u001b[43m_stat_function\u001b[49m\u001b[43m(\u001b[49m\n\u001b[0;32m  12421\u001b[0m \u001b[43m        \u001b[49m\u001b[38;5;124;43m\"\u001b[39;49m\u001b[38;5;124;43mmean\u001b[39;49m\u001b[38;5;124;43m\"\u001b[39;49m\u001b[43m,\u001b[49m\u001b[43m \u001b[49m\u001b[43mnanops\u001b[49m\u001b[38;5;241;43m.\u001b[39;49m\u001b[43mnanmean\u001b[49m\u001b[43m,\u001b[49m\u001b[43m \u001b[49m\u001b[43maxis\u001b[49m\u001b[43m,\u001b[49m\u001b[43m \u001b[49m\u001b[43mskipna\u001b[49m\u001b[43m,\u001b[49m\u001b[43m \u001b[49m\u001b[43mnumeric_only\u001b[49m\u001b[43m,\u001b[49m\u001b[43m \u001b[49m\u001b[38;5;241;43m*\u001b[39;49m\u001b[38;5;241;43m*\u001b[39;49m\u001b[43mkwargs\u001b[49m\n\u001b[0;32m  12422\u001b[0m \u001b[43m    \u001b[49m\u001b[43m)\u001b[49m\n",
      "File \u001b[1;32m~\\AppData\\Local\\Packages\\PythonSoftwareFoundation.Python.3.12_qbz5n2kfra8p0\\LocalCache\\local-packages\\Python312\\site-packages\\pandas\\core\\generic.py:12377\u001b[0m, in \u001b[0;36mNDFrame._stat_function\u001b[1;34m(self, name, func, axis, skipna, numeric_only, **kwargs)\u001b[0m\n\u001b[0;32m  12375\u001b[0m validate_bool_kwarg(skipna, \u001b[38;5;124m\"\u001b[39m\u001b[38;5;124mskipna\u001b[39m\u001b[38;5;124m\"\u001b[39m, none_allowed\u001b[38;5;241m=\u001b[39m\u001b[38;5;28;01mFalse\u001b[39;00m)\n\u001b[1;32m> 12377\u001b[0m \u001b[38;5;28;01mreturn\u001b[39;00m \u001b[38;5;28;43mself\u001b[39;49m\u001b[38;5;241;43m.\u001b[39;49m\u001b[43m_reduce\u001b[49m\u001b[43m(\u001b[49m\n\u001b[0;32m  12378\u001b[0m \u001b[43m    \u001b[49m\u001b[43mfunc\u001b[49m\u001b[43m,\u001b[49m\u001b[43m \u001b[49m\u001b[43mname\u001b[49m\u001b[38;5;241;43m=\u001b[39;49m\u001b[43mname\u001b[49m\u001b[43m,\u001b[49m\u001b[43m \u001b[49m\u001b[43maxis\u001b[49m\u001b[38;5;241;43m=\u001b[39;49m\u001b[43maxis\u001b[49m\u001b[43m,\u001b[49m\u001b[43m \u001b[49m\u001b[43mskipna\u001b[49m\u001b[38;5;241;43m=\u001b[39;49m\u001b[43mskipna\u001b[49m\u001b[43m,\u001b[49m\u001b[43m \u001b[49m\u001b[43mnumeric_only\u001b[49m\u001b[38;5;241;43m=\u001b[39;49m\u001b[43mnumeric_only\u001b[49m\n\u001b[0;32m  12379\u001b[0m \u001b[43m\u001b[49m\u001b[43m)\u001b[49m\n",
      "File \u001b[1;32m~\\AppData\\Local\\Packages\\PythonSoftwareFoundation.Python.3.12_qbz5n2kfra8p0\\LocalCache\\local-packages\\Python312\\site-packages\\pandas\\core\\series.py:6457\u001b[0m, in \u001b[0;36mSeries._reduce\u001b[1;34m(self, op, name, axis, skipna, numeric_only, filter_type, **kwds)\u001b[0m\n\u001b[0;32m   6453\u001b[0m     \u001b[38;5;28;01mraise\u001b[39;00m \u001b[38;5;167;01mTypeError\u001b[39;00m(\n\u001b[0;32m   6454\u001b[0m         \u001b[38;5;124mf\u001b[39m\u001b[38;5;124m\"\u001b[39m\u001b[38;5;124mSeries.\u001b[39m\u001b[38;5;132;01m{\u001b[39;00mname\u001b[38;5;132;01m}\u001b[39;00m\u001b[38;5;124m does not allow \u001b[39m\u001b[38;5;132;01m{\u001b[39;00mkwd_name\u001b[38;5;132;01m}\u001b[39;00m\u001b[38;5;124m=\u001b[39m\u001b[38;5;132;01m{\u001b[39;00mnumeric_only\u001b[38;5;132;01m}\u001b[39;00m\u001b[38;5;124m \u001b[39m\u001b[38;5;124m\"\u001b[39m\n\u001b[0;32m   6455\u001b[0m         \u001b[38;5;124m\"\u001b[39m\u001b[38;5;124mwith non-numeric dtypes.\u001b[39m\u001b[38;5;124m\"\u001b[39m\n\u001b[0;32m   6456\u001b[0m     )\n\u001b[1;32m-> 6457\u001b[0m \u001b[38;5;28;01mreturn\u001b[39;00m \u001b[43mop\u001b[49m\u001b[43m(\u001b[49m\u001b[43mdelegate\u001b[49m\u001b[43m,\u001b[49m\u001b[43m \u001b[49m\u001b[43mskipna\u001b[49m\u001b[38;5;241;43m=\u001b[39;49m\u001b[43mskipna\u001b[49m\u001b[43m,\u001b[49m\u001b[43m \u001b[49m\u001b[38;5;241;43m*\u001b[39;49m\u001b[38;5;241;43m*\u001b[39;49m\u001b[43mkwds\u001b[49m\u001b[43m)\u001b[49m\n",
      "File \u001b[1;32m~\\AppData\\Local\\Packages\\PythonSoftwareFoundation.Python.3.12_qbz5n2kfra8p0\\LocalCache\\local-packages\\Python312\\site-packages\\pandas\\core\\nanops.py:147\u001b[0m, in \u001b[0;36mbottleneck_switch.__call__.<locals>.f\u001b[1;34m(values, axis, skipna, **kwds)\u001b[0m\n\u001b[0;32m    146\u001b[0m \u001b[38;5;28;01melse\u001b[39;00m:\n\u001b[1;32m--> 147\u001b[0m     result \u001b[38;5;241m=\u001b[39m \u001b[43malt\u001b[49m\u001b[43m(\u001b[49m\u001b[43mvalues\u001b[49m\u001b[43m,\u001b[49m\u001b[43m \u001b[49m\u001b[43maxis\u001b[49m\u001b[38;5;241;43m=\u001b[39;49m\u001b[43maxis\u001b[49m\u001b[43m,\u001b[49m\u001b[43m \u001b[49m\u001b[43mskipna\u001b[49m\u001b[38;5;241;43m=\u001b[39;49m\u001b[43mskipna\u001b[49m\u001b[43m,\u001b[49m\u001b[43m \u001b[49m\u001b[38;5;241;43m*\u001b[39;49m\u001b[38;5;241;43m*\u001b[39;49m\u001b[43mkwds\u001b[49m\u001b[43m)\u001b[49m\n\u001b[0;32m    149\u001b[0m \u001b[38;5;28;01mreturn\u001b[39;00m result\n",
      "File \u001b[1;32m~\\AppData\\Local\\Packages\\PythonSoftwareFoundation.Python.3.12_qbz5n2kfra8p0\\LocalCache\\local-packages\\Python312\\site-packages\\pandas\\core\\nanops.py:404\u001b[0m, in \u001b[0;36m_datetimelike_compat.<locals>.new_func\u001b[1;34m(values, axis, skipna, mask, **kwargs)\u001b[0m\n\u001b[0;32m    402\u001b[0m     mask \u001b[38;5;241m=\u001b[39m isna(values)\n\u001b[1;32m--> 404\u001b[0m result \u001b[38;5;241m=\u001b[39m \u001b[43mfunc\u001b[49m\u001b[43m(\u001b[49m\u001b[43mvalues\u001b[49m\u001b[43m,\u001b[49m\u001b[43m \u001b[49m\u001b[43maxis\u001b[49m\u001b[38;5;241;43m=\u001b[39;49m\u001b[43maxis\u001b[49m\u001b[43m,\u001b[49m\u001b[43m \u001b[49m\u001b[43mskipna\u001b[49m\u001b[38;5;241;43m=\u001b[39;49m\u001b[43mskipna\u001b[49m\u001b[43m,\u001b[49m\u001b[43m \u001b[49m\u001b[43mmask\u001b[49m\u001b[38;5;241;43m=\u001b[39;49m\u001b[43mmask\u001b[49m\u001b[43m,\u001b[49m\u001b[43m \u001b[49m\u001b[38;5;241;43m*\u001b[39;49m\u001b[38;5;241;43m*\u001b[39;49m\u001b[43mkwargs\u001b[49m\u001b[43m)\u001b[49m\n\u001b[0;32m    406\u001b[0m \u001b[38;5;28;01mif\u001b[39;00m datetimelike:\n",
      "File \u001b[1;32m~\\AppData\\Local\\Packages\\PythonSoftwareFoundation.Python.3.12_qbz5n2kfra8p0\\LocalCache\\local-packages\\Python312\\site-packages\\pandas\\core\\nanops.py:720\u001b[0m, in \u001b[0;36mnanmean\u001b[1;34m(values, axis, skipna, mask)\u001b[0m\n\u001b[0;32m    719\u001b[0m the_sum \u001b[38;5;241m=\u001b[39m values\u001b[38;5;241m.\u001b[39msum(axis, dtype\u001b[38;5;241m=\u001b[39mdtype_sum)\n\u001b[1;32m--> 720\u001b[0m the_sum \u001b[38;5;241m=\u001b[39m \u001b[43m_ensure_numeric\u001b[49m\u001b[43m(\u001b[49m\u001b[43mthe_sum\u001b[49m\u001b[43m)\u001b[49m\n\u001b[0;32m    722\u001b[0m \u001b[38;5;28;01mif\u001b[39;00m axis \u001b[38;5;129;01mis\u001b[39;00m \u001b[38;5;129;01mnot\u001b[39;00m \u001b[38;5;28;01mNone\u001b[39;00m \u001b[38;5;129;01mand\u001b[39;00m \u001b[38;5;28mgetattr\u001b[39m(the_sum, \u001b[38;5;124m\"\u001b[39m\u001b[38;5;124mndim\u001b[39m\u001b[38;5;124m\"\u001b[39m, \u001b[38;5;28;01mFalse\u001b[39;00m):\n",
      "File \u001b[1;32m~\\AppData\\Local\\Packages\\PythonSoftwareFoundation.Python.3.12_qbz5n2kfra8p0\\LocalCache\\local-packages\\Python312\\site-packages\\pandas\\core\\nanops.py:1701\u001b[0m, in \u001b[0;36m_ensure_numeric\u001b[1;34m(x)\u001b[0m\n\u001b[0;32m   1699\u001b[0m \u001b[38;5;28;01mif\u001b[39;00m \u001b[38;5;28misinstance\u001b[39m(x, \u001b[38;5;28mstr\u001b[39m):\n\u001b[0;32m   1700\u001b[0m     \u001b[38;5;66;03m# GH#44008, GH#36703 avoid casting e.g. strings to numeric\u001b[39;00m\n\u001b[1;32m-> 1701\u001b[0m     \u001b[38;5;28;01mraise\u001b[39;00m \u001b[38;5;167;01mTypeError\u001b[39;00m(\u001b[38;5;124mf\u001b[39m\u001b[38;5;124m\"\u001b[39m\u001b[38;5;124mCould not convert string \u001b[39m\u001b[38;5;124m'\u001b[39m\u001b[38;5;132;01m{\u001b[39;00mx\u001b[38;5;132;01m}\u001b[39;00m\u001b[38;5;124m'\u001b[39m\u001b[38;5;124m to numeric\u001b[39m\u001b[38;5;124m\"\u001b[39m)\n\u001b[0;32m   1702\u001b[0m \u001b[38;5;28;01mtry\u001b[39;00m:\n",
      "\u001b[1;31mTypeError\u001b[0m: Could not convert string '1743-11-011743-12-01' to numeric",
      "\nThe above exception was the direct cause of the following exception:\n",
      "\u001b[1;31mTypeError\u001b[0m                                 Traceback (most recent call last)",
      "Cell \u001b[1;32mIn[11], line 10\u001b[0m\n\u001b[0;32m      7\u001b[0m countries[\u001b[38;5;124m'\u001b[39m\u001b[38;5;124myear\u001b[39m\u001b[38;5;124m'\u001b[39m] \u001b[38;5;241m=\u001b[39m countries[\u001b[38;5;124m'\u001b[39m\u001b[38;5;124mDate\u001b[39m\u001b[38;5;124m'\u001b[39m]\u001b[38;5;241m.\u001b[39mdt\u001b[38;5;241m.\u001b[39myear\n\u001b[0;32m      9\u001b[0m \u001b[38;5;66;03m# Group by year\u001b[39;00m\n\u001b[1;32m---> 10\u001b[0m by_year \u001b[38;5;241m=\u001b[39m \u001b[43mcountries\u001b[49m\u001b[38;5;241;43m.\u001b[39;49m\u001b[43mgroupby\u001b[49m\u001b[43m(\u001b[49m\u001b[43mby\u001b[49m\u001b[43m \u001b[49m\u001b[38;5;241;43m=\u001b[39;49m\u001b[43m \u001b[49m\u001b[43m[\u001b[49m\u001b[38;5;124;43m'\u001b[39;49m\u001b[38;5;124;43myear\u001b[39;49m\u001b[38;5;124;43m'\u001b[39;49m\u001b[43m,\u001b[49m\u001b[43m \u001b[49m\u001b[38;5;124;43m'\u001b[39;49m\u001b[38;5;124;43mCity\u001b[39;49m\u001b[38;5;124;43m'\u001b[39;49m\u001b[43m,\u001b[49m\u001b[43m \u001b[49m\u001b[38;5;124;43m'\u001b[39;49m\u001b[38;5;124;43mCountry\u001b[39;49m\u001b[38;5;124;43m'\u001b[39;49m\u001b[43m,\u001b[49m\u001b[43m \u001b[49m\u001b[38;5;124;43m'\u001b[39;49m\u001b[38;5;124;43mLatitude\u001b[39;49m\u001b[38;5;124;43m'\u001b[39;49m\u001b[43m,\u001b[49m\u001b[43m \u001b[49m\u001b[38;5;124;43m'\u001b[39;49m\u001b[38;5;124;43mLongitude\u001b[39;49m\u001b[38;5;124;43m'\u001b[39;49m\u001b[43m]\u001b[49m\u001b[43m)\u001b[49m\u001b[38;5;241;43m.\u001b[39;49m\u001b[43mmean\u001b[49m\u001b[43m(\u001b[49m\u001b[43m)\u001b[49m\u001b[38;5;241m.\u001b[39mreset_index()\n\u001b[0;32m     12\u001b[0m \u001b[38;5;66;03m# Append the continent & iso codes\u001b[39;00m\n\u001b[0;32m     13\u001b[0m continent_map \u001b[38;5;241m=\u001b[39m pd\u001b[38;5;241m.\u001b[39mread_csv(\u001b[38;5;124m\"\u001b[39m\u001b[38;5;124m../input/country-mapping-iso-continent-region/continents2.csv\u001b[39m\u001b[38;5;124m\"\u001b[39m)\n",
      "File \u001b[1;32m~\\AppData\\Local\\Packages\\PythonSoftwareFoundation.Python.3.12_qbz5n2kfra8p0\\LocalCache\\local-packages\\Python312\\site-packages\\pandas\\core\\groupby\\groupby.py:2452\u001b[0m, in \u001b[0;36mGroupBy.mean\u001b[1;34m(self, numeric_only, engine, engine_kwargs)\u001b[0m\n\u001b[0;32m   2445\u001b[0m     \u001b[38;5;28;01mreturn\u001b[39;00m \u001b[38;5;28mself\u001b[39m\u001b[38;5;241m.\u001b[39m_numba_agg_general(\n\u001b[0;32m   2446\u001b[0m         grouped_mean,\n\u001b[0;32m   2447\u001b[0m         executor\u001b[38;5;241m.\u001b[39mfloat_dtype_mapping,\n\u001b[0;32m   2448\u001b[0m         engine_kwargs,\n\u001b[0;32m   2449\u001b[0m         min_periods\u001b[38;5;241m=\u001b[39m\u001b[38;5;241m0\u001b[39m,\n\u001b[0;32m   2450\u001b[0m     )\n\u001b[0;32m   2451\u001b[0m \u001b[38;5;28;01melse\u001b[39;00m:\n\u001b[1;32m-> 2452\u001b[0m     result \u001b[38;5;241m=\u001b[39m \u001b[38;5;28;43mself\u001b[39;49m\u001b[38;5;241;43m.\u001b[39;49m\u001b[43m_cython_agg_general\u001b[49m\u001b[43m(\u001b[49m\n\u001b[0;32m   2453\u001b[0m \u001b[43m        \u001b[49m\u001b[38;5;124;43m\"\u001b[39;49m\u001b[38;5;124;43mmean\u001b[39;49m\u001b[38;5;124;43m\"\u001b[39;49m\u001b[43m,\u001b[49m\n\u001b[0;32m   2454\u001b[0m \u001b[43m        \u001b[49m\u001b[43malt\u001b[49m\u001b[38;5;241;43m=\u001b[39;49m\u001b[38;5;28;43;01mlambda\u001b[39;49;00m\u001b[43m \u001b[49m\u001b[43mx\u001b[49m\u001b[43m:\u001b[49m\u001b[43m \u001b[49m\u001b[43mSeries\u001b[49m\u001b[43m(\u001b[49m\u001b[43mx\u001b[49m\u001b[43m,\u001b[49m\u001b[43m \u001b[49m\u001b[43mcopy\u001b[49m\u001b[38;5;241;43m=\u001b[39;49m\u001b[38;5;28;43;01mFalse\u001b[39;49;00m\u001b[43m)\u001b[49m\u001b[38;5;241;43m.\u001b[39;49m\u001b[43mmean\u001b[49m\u001b[43m(\u001b[49m\u001b[43mnumeric_only\u001b[49m\u001b[38;5;241;43m=\u001b[39;49m\u001b[43mnumeric_only\u001b[49m\u001b[43m)\u001b[49m\u001b[43m,\u001b[49m\n\u001b[0;32m   2455\u001b[0m \u001b[43m        \u001b[49m\u001b[43mnumeric_only\u001b[49m\u001b[38;5;241;43m=\u001b[39;49m\u001b[43mnumeric_only\u001b[49m\u001b[43m,\u001b[49m\n\u001b[0;32m   2456\u001b[0m \u001b[43m    \u001b[49m\u001b[43m)\u001b[49m\n\u001b[0;32m   2457\u001b[0m     \u001b[38;5;28;01mreturn\u001b[39;00m result\u001b[38;5;241m.\u001b[39m__finalize__(\u001b[38;5;28mself\u001b[39m\u001b[38;5;241m.\u001b[39mobj, method\u001b[38;5;241m=\u001b[39m\u001b[38;5;124m\"\u001b[39m\u001b[38;5;124mgroupby\u001b[39m\u001b[38;5;124m\"\u001b[39m)\n",
      "File \u001b[1;32m~\\AppData\\Local\\Packages\\PythonSoftwareFoundation.Python.3.12_qbz5n2kfra8p0\\LocalCache\\local-packages\\Python312\\site-packages\\pandas\\core\\groupby\\groupby.py:1998\u001b[0m, in \u001b[0;36mGroupBy._cython_agg_general\u001b[1;34m(self, how, alt, numeric_only, min_count, **kwargs)\u001b[0m\n\u001b[0;32m   1995\u001b[0m     result \u001b[38;5;241m=\u001b[39m \u001b[38;5;28mself\u001b[39m\u001b[38;5;241m.\u001b[39m_agg_py_fallback(how, values, ndim\u001b[38;5;241m=\u001b[39mdata\u001b[38;5;241m.\u001b[39mndim, alt\u001b[38;5;241m=\u001b[39malt)\n\u001b[0;32m   1996\u001b[0m     \u001b[38;5;28;01mreturn\u001b[39;00m result\n\u001b[1;32m-> 1998\u001b[0m new_mgr \u001b[38;5;241m=\u001b[39m \u001b[43mdata\u001b[49m\u001b[38;5;241;43m.\u001b[39;49m\u001b[43mgrouped_reduce\u001b[49m\u001b[43m(\u001b[49m\u001b[43marray_func\u001b[49m\u001b[43m)\u001b[49m\n\u001b[0;32m   1999\u001b[0m res \u001b[38;5;241m=\u001b[39m \u001b[38;5;28mself\u001b[39m\u001b[38;5;241m.\u001b[39m_wrap_agged_manager(new_mgr)\n\u001b[0;32m   2000\u001b[0m \u001b[38;5;28;01mif\u001b[39;00m how \u001b[38;5;129;01min\u001b[39;00m [\u001b[38;5;124m\"\u001b[39m\u001b[38;5;124midxmin\u001b[39m\u001b[38;5;124m\"\u001b[39m, \u001b[38;5;124m\"\u001b[39m\u001b[38;5;124midxmax\u001b[39m\u001b[38;5;124m\"\u001b[39m]:\n",
      "File \u001b[1;32m~\\AppData\\Local\\Packages\\PythonSoftwareFoundation.Python.3.12_qbz5n2kfra8p0\\LocalCache\\local-packages\\Python312\\site-packages\\pandas\\core\\internals\\managers.py:1469\u001b[0m, in \u001b[0;36mBlockManager.grouped_reduce\u001b[1;34m(self, func)\u001b[0m\n\u001b[0;32m   1465\u001b[0m \u001b[38;5;28;01mif\u001b[39;00m blk\u001b[38;5;241m.\u001b[39mis_object:\n\u001b[0;32m   1466\u001b[0m     \u001b[38;5;66;03m# split on object-dtype blocks bc some columns may raise\u001b[39;00m\n\u001b[0;32m   1467\u001b[0m     \u001b[38;5;66;03m#  while others do not.\u001b[39;00m\n\u001b[0;32m   1468\u001b[0m     \u001b[38;5;28;01mfor\u001b[39;00m sb \u001b[38;5;129;01min\u001b[39;00m blk\u001b[38;5;241m.\u001b[39m_split():\n\u001b[1;32m-> 1469\u001b[0m         applied \u001b[38;5;241m=\u001b[39m \u001b[43msb\u001b[49m\u001b[38;5;241;43m.\u001b[39;49m\u001b[43mapply\u001b[49m\u001b[43m(\u001b[49m\u001b[43mfunc\u001b[49m\u001b[43m)\u001b[49m\n\u001b[0;32m   1470\u001b[0m         result_blocks \u001b[38;5;241m=\u001b[39m extend_blocks(applied, result_blocks)\n\u001b[0;32m   1471\u001b[0m \u001b[38;5;28;01melse\u001b[39;00m:\n",
      "File \u001b[1;32m~\\AppData\\Local\\Packages\\PythonSoftwareFoundation.Python.3.12_qbz5n2kfra8p0\\LocalCache\\local-packages\\Python312\\site-packages\\pandas\\core\\internals\\blocks.py:393\u001b[0m, in \u001b[0;36mBlock.apply\u001b[1;34m(self, func, **kwargs)\u001b[0m\n\u001b[0;32m    387\u001b[0m \u001b[38;5;129m@final\u001b[39m\n\u001b[0;32m    388\u001b[0m \u001b[38;5;28;01mdef\u001b[39;00m \u001b[38;5;21mapply\u001b[39m(\u001b[38;5;28mself\u001b[39m, func, \u001b[38;5;241m*\u001b[39m\u001b[38;5;241m*\u001b[39mkwargs) \u001b[38;5;241m-\u001b[39m\u001b[38;5;241m>\u001b[39m \u001b[38;5;28mlist\u001b[39m[Block]:\n\u001b[0;32m    389\u001b[0m \u001b[38;5;250m    \u001b[39m\u001b[38;5;124;03m\"\"\"\u001b[39;00m\n\u001b[0;32m    390\u001b[0m \u001b[38;5;124;03m    apply the function to my values; return a block if we are not\u001b[39;00m\n\u001b[0;32m    391\u001b[0m \u001b[38;5;124;03m    one\u001b[39;00m\n\u001b[0;32m    392\u001b[0m \u001b[38;5;124;03m    \"\"\"\u001b[39;00m\n\u001b[1;32m--> 393\u001b[0m     result \u001b[38;5;241m=\u001b[39m \u001b[43mfunc\u001b[49m\u001b[43m(\u001b[49m\u001b[38;5;28;43mself\u001b[39;49m\u001b[38;5;241;43m.\u001b[39;49m\u001b[43mvalues\u001b[49m\u001b[43m,\u001b[49m\u001b[43m \u001b[49m\u001b[38;5;241;43m*\u001b[39;49m\u001b[38;5;241;43m*\u001b[39;49m\u001b[43mkwargs\u001b[49m\u001b[43m)\u001b[49m\n\u001b[0;32m    395\u001b[0m     result \u001b[38;5;241m=\u001b[39m maybe_coerce_values(result)\n\u001b[0;32m    396\u001b[0m     \u001b[38;5;28;01mreturn\u001b[39;00m \u001b[38;5;28mself\u001b[39m\u001b[38;5;241m.\u001b[39m_split_op_result(result)\n",
      "File \u001b[1;32m~\\AppData\\Local\\Packages\\PythonSoftwareFoundation.Python.3.12_qbz5n2kfra8p0\\LocalCache\\local-packages\\Python312\\site-packages\\pandas\\core\\groupby\\groupby.py:1995\u001b[0m, in \u001b[0;36mGroupBy._cython_agg_general.<locals>.array_func\u001b[1;34m(values)\u001b[0m\n\u001b[0;32m   1992\u001b[0m     \u001b[38;5;28;01mreturn\u001b[39;00m result\n\u001b[0;32m   1994\u001b[0m \u001b[38;5;28;01massert\u001b[39;00m alt \u001b[38;5;129;01mis\u001b[39;00m \u001b[38;5;129;01mnot\u001b[39;00m \u001b[38;5;28;01mNone\u001b[39;00m\n\u001b[1;32m-> 1995\u001b[0m result \u001b[38;5;241m=\u001b[39m \u001b[38;5;28;43mself\u001b[39;49m\u001b[38;5;241;43m.\u001b[39;49m\u001b[43m_agg_py_fallback\u001b[49m\u001b[43m(\u001b[49m\u001b[43mhow\u001b[49m\u001b[43m,\u001b[49m\u001b[43m \u001b[49m\u001b[43mvalues\u001b[49m\u001b[43m,\u001b[49m\u001b[43m \u001b[49m\u001b[43mndim\u001b[49m\u001b[38;5;241;43m=\u001b[39;49m\u001b[43mdata\u001b[49m\u001b[38;5;241;43m.\u001b[39;49m\u001b[43mndim\u001b[49m\u001b[43m,\u001b[49m\u001b[43m \u001b[49m\u001b[43malt\u001b[49m\u001b[38;5;241;43m=\u001b[39;49m\u001b[43malt\u001b[49m\u001b[43m)\u001b[49m\n\u001b[0;32m   1996\u001b[0m \u001b[38;5;28;01mreturn\u001b[39;00m result\n",
      "File \u001b[1;32m~\\AppData\\Local\\Packages\\PythonSoftwareFoundation.Python.3.12_qbz5n2kfra8p0\\LocalCache\\local-packages\\Python312\\site-packages\\pandas\\core\\groupby\\groupby.py:1946\u001b[0m, in \u001b[0;36mGroupBy._agg_py_fallback\u001b[1;34m(self, how, values, ndim, alt)\u001b[0m\n\u001b[0;32m   1944\u001b[0m     msg \u001b[38;5;241m=\u001b[39m \u001b[38;5;124mf\u001b[39m\u001b[38;5;124m\"\u001b[39m\u001b[38;5;124magg function failed [how->\u001b[39m\u001b[38;5;132;01m{\u001b[39;00mhow\u001b[38;5;132;01m}\u001b[39;00m\u001b[38;5;124m,dtype->\u001b[39m\u001b[38;5;132;01m{\u001b[39;00mser\u001b[38;5;241m.\u001b[39mdtype\u001b[38;5;132;01m}\u001b[39;00m\u001b[38;5;124m]\u001b[39m\u001b[38;5;124m\"\u001b[39m\n\u001b[0;32m   1945\u001b[0m     \u001b[38;5;66;03m# preserve the kind of exception that raised\u001b[39;00m\n\u001b[1;32m-> 1946\u001b[0m     \u001b[38;5;28;01mraise\u001b[39;00m \u001b[38;5;28mtype\u001b[39m(err)(msg) \u001b[38;5;28;01mfrom\u001b[39;00m \u001b[38;5;21;01merr\u001b[39;00m\n\u001b[0;32m   1948\u001b[0m \u001b[38;5;28;01mif\u001b[39;00m ser\u001b[38;5;241m.\u001b[39mdtype \u001b[38;5;241m==\u001b[39m \u001b[38;5;28mobject\u001b[39m:\n\u001b[0;32m   1949\u001b[0m     res_values \u001b[38;5;241m=\u001b[39m res_values\u001b[38;5;241m.\u001b[39mastype(\u001b[38;5;28mobject\u001b[39m, copy\u001b[38;5;241m=\u001b[39m\u001b[38;5;28;01mFalse\u001b[39;00m)\n",
      "\u001b[1;31mTypeError\u001b[0m: agg function failed [how->mean,dtype->object]"
     ]
    }
   ],
   "source": [
    "# Read the file (countries + cities)\n",
    "countries = pd.read_csv(\"GlobalLandTemperaturesByCity.csv\")\n",
    "\n",
    "# Because the file is very big and there are many dates missing (like the last file), we will group by year\n",
    "# create column year\n",
    "countries['Date'] = pd.to_datetime(countries['dt'])\n",
    "countries['year'] = countries['Date'].dt.year\n",
    "\n",
    "# Group by year\n",
    "by_year = countries.groupby(by = ['year', 'City', 'Country', 'Latitude', 'Longitude']).mean().reset_index()\n",
    "\n",
    "# Append the continent & iso codes\n",
    "continent_map = pd.read_csv(\"../input/country-mapping-iso-continent-region/continents2.csv\")\n",
    "continent_map['Country'] = continent_map['name']\n",
    "continent_map = continent_map[['Country', 'region', 'alpha-2', 'alpha-3']]\n",
    "\n",
    "# Add information\n",
    "data = pd.merge(left = by_year, right = continent_map, on = 'Country', how = 'left')\n",
    "\n",
    "# Filter starting 1825 - because some countries weren't monitored before this year on some periods, \n",
    "# the mean overall could be quite misleading (example: Americas have an increase from 1821 to 1825 of 5 points in temperature,\n",
    "# but this happens only because in 1824 data for South America started to be collected)\n",
    "data = data[data['year'] >= 1825]\n",
    "\n",
    "# Datasets:\n",
    "\n",
    "region = data.dropna(axis = 0).groupby(by = ['region', 'year']).mean().reset_index()\n",
    "countries = data.dropna(axis = 0).groupby(by = ['region', 'Country', 'year']).mean().reset_index()\n",
    "cities = data.dropna(axis = 0).groupby(by = ['region', 'Country', 'City', 'year', 'Latitude', 'Longitude']).mean().reset_index()"
   ]
  },
  {
   "cell_type": "code",
   "execution_count": null,
   "id": "b424c694",
   "metadata": {},
   "outputs": [],
   "source": [
    "# Figure layout\n",
    "fig = make_subplots(rows=1, cols=2, insets=[{'cell': (1,1), 'l': 0.7, 'b': 0.3}])\n",
    "fig.update_layout(title=\"Continents increase in Average Temperature\", title_font_size = 20,\n",
    "                  font=dict( family=\"Courier New, monospace\", size=12,color=\"#7f7f7f\"),\n",
    "                  template = \"ggplot2\", hovermode= 'closest')\n",
    "fig.update_xaxes(showline=True, linewidth=1, linecolor='gray')\n",
    "fig.update_yaxes(showline=True, linewidth=1, linecolor='gray')\n",
    "\n",
    "#============================= Scatter =============================\n",
    "fig.add_trace(go.Scatter(x = region[region['region'] == 'Europe']['year'], y = region[region['region'] == 'Europe']['AverageTemperature'], mode = 'lines',\n",
    "                        name = 'Europe', marker_color='rgb(128, 0, 0)'), row = 1, col = 1)\n",
    "fig.add_trace(go.Scatter(x = region[region['region'] == 'Americas']['year'], y = region[region['region'] == 'Americas']['AverageTemperature'], mode = 'lines',\n",
    "                        name = 'Americas', marker_color='rgb(210,105,30)'), row = 1, col = 1)\n",
    "fig.add_trace(go.Scatter(x = region[region['region'] == 'Asia']['year'], y = region[region['region'] == 'Asia']['AverageTemperature'], mode = 'lines',\n",
    "                        name = 'Asia', marker_color='rgb(135,206,235)'), row = 1, col = 1)\n",
    "fig.add_trace(go.Scatter(x = region[region['region'] == 'Africa']['year'], y = region[region['region'] == 'Africa']['AverageTemperature'], mode = 'lines',\n",
    "                        name = 'Africa', marker_color='rgb(107,142,35)'), row = 1, col = 1)\n",
    "fig.add_trace(go.Scatter(x = region[region['region'] == 'Oceania']['year'], y = region[region['region'] == 'Oceania']['AverageTemperature'], mode = 'lines',\n",
    "                        name = 'Oceania', marker_color='rgb(70,130,180)'), row = 1, col = 1)\n",
    "\n",
    "#============================= Bar =============================\n",
    "y1 = np.round(region.groupby(by = 'region')['AverageTemperature'].mean().tolist(), 1)\n",
    "y2 = np.round(region.groupby(by = 'region')['AverageTemperature'].max().tolist(), 1)\n",
    "\n",
    "fig.add_trace(go.Bar(x = region['region'].unique(), y = region.groupby(by = 'region')['AverageTemperature'].mean().tolist(), \n",
    "                     name = 'Mean Temp', marker_color = 'rgb(188,143,143)', text = y1, textposition = 'auto'),\n",
    "              row = 1, col = 2)\n",
    "fig.add_trace(go.Bar(x = region['region'].unique(), y = region.groupby(by = 'region')['AverageTemperature'].max().tolist(), \n",
    "                     name = 'Max Temp', marker_color = 'rgb(222,184,135)', text = y2, textposition = 'auto'),\n",
    "              row = 1, col = 2)"
   ]
  },
  {
   "cell_type": "code",
   "execution_count": null,
   "id": "5bb60932",
   "metadata": {},
   "outputs": [],
   "source": [
    "# Data\n",
    "mean = countries.groupby(['Country', 'region'])['AverageTemperature'].mean().reset_index()\n",
    "maximum = countries.groupby(['Country', 'region'])['AverageTemperature'].max().reset_index()\n",
    "\n",
    "difference = pd.merge(left = mean, right = maximum, on = ['Country', 'region'])\n",
    "difference['diff'] = difference['AverageTemperature_y'] - difference['AverageTemperature_x']\n",
    "\n",
    "# Graph\n",
    "fig = go.Figure()\n",
    "fig.update_layout(title=\"Difference in Temperature (Countries)\", title_font_size = 20,\n",
    "                  font=dict( family=\"Courier New, monospace\", size=13,color=\"#7f7f7f\"),\n",
    "                  template = \"ggplot2\", autosize = False, height = 3500, width = 750)\n",
    "fig.update_xaxes(showline=True, linewidth=1, linecolor='gray')\n",
    "fig.update_yaxes(showline=True, linewidth=1, linecolor='gray')\n",
    "\n",
    "sort_diff = difference[['Country', 'region', 'diff']].sort_values(by = 'diff', ascending = True)\n",
    "fig.add_trace(go.Bar(x = sort_diff['diff'], y = sort_diff['Country'], orientation = 'h',\n",
    "                    marker=dict(color='rgb(222,184,135)', line=dict( color='rgb(188,143,143)', width=0.6))))\n",
    "fig.show()"
   ]
  },
  {
   "cell_type": "code",
   "execution_count": null,
   "id": "3461ef41",
   "metadata": {},
   "outputs": [],
   "source": [
    "# Data - we need iso alpha-3 codes\n",
    "map_countries = data.dropna(axis = 0).groupby(by = ['region', 'Country', 'year','alpha-3']).mean().reset_index()\n",
    "\n",
    "# Min temperature is -5.453083, and because the size in a map cannot be negative, we will add 6 to all temperatures\n",
    "# to \"standardize the data\"\n",
    "map_countries['AverageTemperature'] = map_countries['AverageTemperature'] + 6\n",
    "\n",
    "fig = px.scatter_geo(map_countries, locations='alpha-3', color='region',\n",
    "                     color_discrete_sequence = ('rgb(128,0,0)','rgb(210,105,30)','rgb(135,206,235)','rgb(107,142,35)'),\n",
    "                     hover_name=\"Country\", size=\"AverageTemperature\", size_max=15, opacity = 0.8,\n",
    "                     animation_frame=\"year\",\n",
    "                     projection=\"natural earth\", title='Interactive Globe Map - Temperature increase')\n",
    "fig.show()"
   ]
  },
  {
   "cell_type": "code",
   "execution_count": null,
   "id": "c83b7ef6",
   "metadata": {},
   "outputs": [],
   "source": [
    "# Calculating the difference column\n",
    "mean = map_countries.groupby(['region','Country','alpha-3'])['AverageTemperature'].mean().reset_index()\n",
    "maximum = map_countries.groupby(['region','Country','alpha-3'])['AverageTemperature'].max().reset_index()\n",
    "difference = pd.merge(left = mean, right = maximum, on = ['region','Country','alpha-3'])\n",
    "difference['diff'] = difference['AverageTemperature_y'] - difference['AverageTemperature_x']\n",
    "difference.rename(columns = {'AverageTemperature_y':'Maximum Average Temperature',\n",
    "                             'AverageTemperature_y':'Overall Avg Temp'}, inplace = True)\n",
    "\n",
    "# Figure\n",
    "fig = px.scatter_geo(difference, locations=\"alpha-3\", color=\"Overall Avg Temp\", #we color by average temp\n",
    "                     hover_name=\"Country\", size=\"diff\", size_max=15, #we size by how big is the difference\n",
    "                     projection=\"natural earth\", opacity = 0.8,\n",
    "                     color_continuous_scale=('#283747', '#2874A6', '#3498DB', '#F5B041', '#E67E22', '#A93226'),\n",
    "                     title = 'Global Map - difference between the mean and max temperatures')\n",
    "fig.show()"
   ]
  }
 ],
 "metadata": {
  "kernelspec": {
   "display_name": "Python 3",
   "language": "python",
   "name": "python3"
  },
  "language_info": {
   "codemirror_mode": {
    "name": "ipython",
    "version": 3
   },
   "file_extension": ".py",
   "mimetype": "text/x-python",
   "name": "python",
   "nbconvert_exporter": "python",
   "pygments_lexer": "ipython3",
   "version": "3.12.9"
  }
 },
 "nbformat": 4,
 "nbformat_minor": 5
}
